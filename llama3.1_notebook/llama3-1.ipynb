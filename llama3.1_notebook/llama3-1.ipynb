{
  "cells": [
    {
      "cell_type": "code",
      "execution_count": 1,
      "metadata": {},
      "outputs": [
        {
          "name": "stderr",
          "output_type": "stream",
          "text": [
            "/home/t/tzelilai/Desktop/Thesis/venv/lib64/python3.9/site-packages/tqdm/auto.py:21: TqdmWarning: IProgress not found. Please update jupyter and ipywidgets. See https://ipywidgets.readthedocs.io/en/stable/user_install.html\n",
            "  from .autonotebook import tqdm as notebook_tqdm\n"
          ]
        }
      ],
      "source": [
        "import transformers\n",
        "import torch \n",
        "import gc \n",
        "import json\n",
        "from tokens import *"
      ]
    },
    {
      "cell_type": "code",
      "execution_count": 2,
      "metadata": {},
      "outputs": [],
      "source": [
        "gc.collect()\n",
        "torch.cuda.empty_cache()"
      ]
    },
    {
      "cell_type": "code",
      "execution_count": 3,
      "metadata": {
        "colab": {
          "base_uri": "https://localhost:8080/",
          "height": 1000,
          "referenced_widgets": [
            "6a864427be804607aa7f009d616d3f97",
            "96047562598a45069fd9dc9d8f4b393a",
            "93c7fd87c8ed4769aad9a4170caf03f4",
            "e7c60755ec374ade9a830080c58ce078",
            "2627ed72f18841c981f9e0a2b8aa48ee",
            "2bedcbb8663949018cdb54e1b2894795",
            "11f297fcc4274958b5c5bda3f159e0d7",
            "56f0d8548d3a4ed9aa284d056ee3c136",
            "e6325cd030ed4100b9933be76b1876ae",
            "0c9dbc6ccede49a8b2bf17034b052c19",
            "cadff175cb4f4a47a3663628238e088b"
          ]
        },
        "id": "JaPGT7BqEDQf",
        "outputId": "9d3375a8-0df1-41a1-b0cd-cfd384552a3c"
      },
      "outputs": [
        {
          "name": "stderr",
          "output_type": "stream",
          "text": [
            "/home/t/tzelilai/Desktop/Thesis/venv/lib64/python3.9/site-packages/transformers/models/auto/auto_factory.py:471: FutureWarning: The `use_auth_token` argument is deprecated and will be removed in v5 of Transformers. Please use `token` instead.\n",
            "  warnings.warn(\n",
            "2024-11-30 16:26:44.036890: I tensorflow/core/util/port.cc:153] oneDNN custom operations are on. You may see slightly different numerical results due to floating-point round-off errors from different computation orders. To turn them off, set the environment variable `TF_ENABLE_ONEDNN_OPTS=0`.\n",
            "2024-11-30 16:26:45.477842: E external/local_xla/xla/stream_executor/cuda/cuda_fft.cc:485] Unable to register cuFFT factory: Attempting to register factory for plugin cuFFT when one has already been registered\n",
            "2024-11-30 16:26:45.966429: E external/local_xla/xla/stream_executor/cuda/cuda_dnn.cc:8454] Unable to register cuDNN factory: Attempting to register factory for plugin cuDNN when one has already been registered\n",
            "2024-11-30 16:26:46.108164: E external/local_xla/xla/stream_executor/cuda/cuda_blas.cc:1452] Unable to register cuBLAS factory: Attempting to register factory for plugin cuBLAS when one has already been registered\n",
            "2024-11-30 16:26:47.059126: I tensorflow/core/platform/cpu_feature_guard.cc:210] This TensorFlow binary is optimized to use available CPU instructions in performance-critical operations.\n",
            "To enable the following instructions: AVX2 AVX512F AVX512_VNNI FMA, in other operations, rebuild TensorFlow with the appropriate compiler flags.\n",
            "2024-11-30 16:27:12.336717: W tensorflow/compiler/tf2tensorrt/utils/py_utils.cc:38] TF-TRT Warning: Could not find TensorRT\n",
            "The `load_in_4bit` and `load_in_8bit` arguments are deprecated and will be removed in the future versions. Please, pass a `BitsAndBytesConfig` object in `quantization_config` argument instead.\n",
            "`low_cpu_mem_usage` was None, now default to True since model is quantized.\n",
            "Loading checkpoint shards: 100%|██████████| 4/4 [01:30<00:00, 22.63s/it]\n",
            "/home/t/tzelilai/Desktop/Thesis/venv/lib64/python3.9/site-packages/transformers/models/auto/tokenization_auto.py:809: FutureWarning: The `use_auth_token` argument is deprecated and will be removed in v5 of Transformers. Please use `token` instead.\n",
            "  warnings.warn(\n"
          ]
        }
      ],
      "source": [
        "# Load the model and tokenizer with the access token\n",
        "model = transformers.AutoModelForCausalLM.from_pretrained(\n",
        "    model_id,\n",
        "    use_auth_token=access_token,\n",
        "    torch_dtype=torch.bfloat16,\n",
        "    load_in_4bit=True\n",
        ")\n",
        "tokenizer = transformers.AutoTokenizer.from_pretrained(\n",
        "    model_id,\n",
        "    use_auth_token=access_token\n",
        ")\n",
        "\n",
        "# Create the pipeline with the specified model and tokenizer\n",
        "pipeline = transformers.pipeline(\n",
        "    \"text-generation\",\n",
        "    model=model,\n",
        "    tokenizer=tokenizer\n",
        ")"
      ]
    },
    {
      "cell_type": "code",
      "execution_count": 4,
      "metadata": {
        "id": "8gzj1zr8KIxV"
      },
      "outputs": [],
      "source": [
        "def repeater(messages):\n",
        "\n",
        "  # Apply chat template to messages\n",
        "  prompt = pipeline.tokenizer.apply_chat_template(\n",
        "      messages,\n",
        "      tokenize=False,\n",
        "      add_generation_prompt=True\n",
        "  )\n",
        "\n",
        "  # Define terminators\n",
        "  terminators = [\n",
        "      pipeline.tokenizer.eos_token_id,\n",
        "  ]\n",
        "\n",
        "  # Generate text\n",
        "  outputs = pipeline(\n",
        "      prompt,\n",
        "      max_new_tokens=2024*2,\n",
        "      eos_token_id=terminators,\n",
        "      do_sample=True,\n",
        "      temperature=1,\n",
        "      top_p=0.9,\n",
        "  )\n",
        "  return len(prompt), outputs\n"
      ]
    },
    {
      "cell_type": "code",
      "execution_count": 17,
      "metadata": {},
      "outputs": [
        {
          "name": "stdout",
          "output_type": "stream",
          "text": [
            "5 are available.\n"
          ]
        }
      ],
      "source": [
        "with open('articles copy.json', 'r') as file: \n",
        "    articles = json.load(file)\n",
        "\n",
        "print(f'{len(articles[len(articles) - 1])} are available.')"
      ]
    },
    {
      "cell_type": "code",
      "execution_count": null,
      "metadata": {},
      "outputs": [],
      "source": [
        "content = \"\"\n",
        "for i, article in enumerate(articles[0]):\n",
        "    content += \"Article\" + str(i+1) + \":\" + article[\"content\"] + '\\n\\n'"
      ]
    },
    {
      "cell_type": "code",
      "execution_count": 31,
      "metadata": {},
      "outputs": [],
      "source": [
        "# Define messages\n",
        "messages = [\n",
        "{\n",
        "  \"role\": \"system\",\n",
        "  \"content\": \"You are a journalist tasked with writing a neutral and unbiased news article. You will receive multiple articles on a single topic. Your job is to:\"\n",
        "             \"1. Combine the key points from all articles into one cohesive news article.\"\n",
        "             \"2. The information in the article should flow, without being repeated\"\n",
        "             \"3. Ensure the content is factual, informative, and free from bias or personal opinion.\"\n",
        "             \"4. Provide a comprehensive title for the article\"\n",
        "},                           \n",
        "    {\"role\": \"user\", \"content\": content}\n",
        "]"
      ]
    },
    {
      "cell_type": "code",
      "execution_count": 32,
      "metadata": {},
      "outputs": [
        {
          "name": "stderr",
          "output_type": "stream",
          "text": [
            "You seem to be using the pipelines sequentially on GPU. In order to maximize efficiency please use a dataset\n",
            "Setting `pad_token_id` to `eos_token_id`:None for open-end generation.\n"
          ]
        },
        {
          "name": "stdout",
          "output_type": "stream",
          "text": [
            "Title: Musk's Proposed Department of Government Efficiency Raises Concerns About Conflicts of Interest\n",
            "\n",
            "Cathie Wood, CEO of ARK Invest, believes that Elon Musk will succeed in his new role as head of the Department of Government Efficiency (DOGE), citing his access to proprietary data and experience in streamlining government operations. Wood points to Musk's track record of overcoming incredible odds in his business career, including founding and being pushed out of PayPal in 2000 and revolutionizing space travel and electric vehicles with SpaceX and Tesla.\n",
            "\n",
            "Musk has been appointed to lead DOGE, a non-governmental body tasked with cutting waste and making Washington work better and faster, alongside Vivek Ramaswamy, a biotech investor and former Republican primary candidate. The department's objectives include scrutinizing federal operations and recommending reforms to reduce waste and improve efficiency.\n",
            "\n",
            "However, experts are raising concerns about potential conflicts of interest due to Musk's vast portfolio across multiple sectors, including energy, transportation, space exploration, military, and intelligence. Musk's companies, such as SpaceX and Tesla, have received billions of dollars in federal contracts, and his appointment as head of DOGE could lead to self-serving decisions.\n",
            "\n",
            "The concerns are reminiscent of Carl Icahn's appointment as Trump's unpaid adviser on regulatory reform in 2017. Icahn was criticized for his extensive business holdings, particularly in energy-related industries subject to strict federal regulations. He ultimately resigned after just seven months due to ethical questions and a federal investigation.\n",
            "\n",
            "Critics argue that Musk's appointment is also problematic, citing his potential to personally benefit from cost-cutting measures and regulatory changes. Musk has been forced to pay millions in fines and penalties to various federal agencies, including the Justice Department, the Securities and Exchange Commission, and the Environmental Protection Agency.\n",
            "\n",
            "Some have compared the situation to the old adage \"asking the fox to guard the hen house,\" and many are skeptical about Musk's ability to maintain independence and make decisions that benefit the greater good. While Musk's appointment has been praised by some as a \"small-government revolution,\" many are worried about the potential consequences of placing a billionaire with significant financial stakes in various industries in charge of reforming government operations.\n",
            "\n",
            "In conclusion, while Cathie Wood believes that Musk has the expertise and vision to make the Department of Government Efficiency a success, many are concerned about the potential conflicts of interest and lack of transparency surrounding his appointment. As the department's work begins, it is essential to monitor its progress and ensure that it serves the public interest rather than Musk's own financial interests.."
          ]
        }
      ],
      "source": [
        "prompt_len, outputs = repeater(messages)\n",
        "print(outputs[0][\"generated_text\"][prompt_len:], end='.')"
      ]
    },
    {
      "cell_type": "code",
      "execution_count": 26,
      "metadata": {},
      "outputs": [],
      "source": [
        "# Define messages\n",
        "messages = [\n",
        "{\n",
        "  \"role\": \"system\",\n",
        "  \"content\": \"You are a journalist tasked with writing a neutral and unbiased news article. You will receive multiple articles on a single topic. Your job is to:\"\n",
        "             \"1. Combine the key points from all articles into one cohesive news article.\"\n",
        "             \"2. The information in the article should flow, without being repeated\"\n",
        "             \"3. Ensure the content is factual, informative, and free from bias or personal opinion.\"\n",
        "             \"4. Provide a comprehensive title for the article\"\n",
        "             \"4. If differing viewpoints or opinions are observed, present them evenly and objectively.\"\n",
        "             \"5. Avoid exaggeration or emotionally charged language. Focus on accuracy and clarity.\"\n",
        "             \"6. Divide the article in paragraphs if necessary \"\n",
        "             \"Write in a professional and neutral tone, suitable for publication in a reputable news outlet.\"\n",
        "},                           \n",
        "    {\"role\": \"user\", \"content\": content}\n",
        "]"
      ]
    },
    {
      "cell_type": "code",
      "execution_count": 24,
      "metadata": {},
      "outputs": [
        {
          "name": "stderr",
          "output_type": "stream",
          "text": [
            "Setting `pad_token_id` to `eos_token_id`:None for open-end generation.\n"
          ]
        },
        {
          "name": "stdout",
          "output_type": "stream",
          "text": [
            "Title: Trump Taps Elon Musk to Lead Department of Government Efficiency, but Questions Remain on Conflicts of Interest\n",
            "\n",
            "In a surprise move, President-elect Donald Trump has appointed Elon Musk, the CEO of Tesla and SpaceX, to lead the newly created Department of Government Efficiency (DOGE). The agency aims to reduce waste and improve efficiency in the federal government. Musk will be joined by Vivek Ramaswamy, a biotech investor, as co-director of the group.\n",
            "\n",
            "ARK Invest CEO Cathie Wood, a longtime supporter of Musk and his companies, believes Musk's unique understanding of the current technological landscape and his proprietary data will help him succeed in his new role. Wood pointed out that Musk's companies, including SpaceX, Tesla, and X, possess vast amounts of data, which could be valuable in identifying areas for cost-cutting.\n",
            "\n",
            "However, critics argue that Musk's vast portfolio of companies, which includes SpaceX, Tesla, and others, creates significant conflicts of interest. Musk's companies have received at least $15.4 billion in federal government contracts over the past decade, and he has promised to cut $2 trillion from the federal budget. This raises concerns that Musk may be using his position to benefit his own companies and interests.\n",
            "\n",
            "The appointment of Musk as head of DOGE is not without precedent. Trump previously tapped billionaire Carl Icahn to serve as an unpaid adviser on regulatory reform, but the appointment was met with controversy and scrutiny due to potential conflicts of interest. Icahn's companies had significant investments in energy-related industries subject to federal regulations, and his role was criticized as a \"quid-pro-quo\" arrangement.\n",
            "\n",
            "Similarly, Musk's appointment raises concerns about the potential for conflicts of interest. His companies are regulated by numerous federal agencies, and he has promised to cut regulations and streamline government operations. Critics argue that this could benefit his own companies and interests, rather than the American people.\n",
            "\n",
            "The Department of Government Efficiency will not be a government agency operating within the federal government, but rather an external group, similar to a consulting or accounting firm. The specifics of how the commission will work are still unclear, but it is likely that some cost cuts will require legislation, while others could be offered as recommendations to government agencies.\n",
            "\n",
            "While some, like ARK Invest's Cathie Wood, believe Musk has the expertise and data to succeed in his new role, others, like Danielle Brian, executive director and president of the Project On Government Oversight, are concerned about the potential conflicts of interest and the lack of oversight. \"I think there's a really great comparison\" between the two cases, Brian said. \"The question in that case was that Carl Icahn seemed to take the public outrage seriously enough that he stepped down. I don't see Musk having the same sense of shame that Icahn did eight years ago.\"."
          ]
        }
      ],
      "source": [
        "prompt_len, outputs = repeater(messages)\n",
        "print(outputs[0][\"generated_text\"][prompt_len:], end='.')"
      ]
    },
    {
      "cell_type": "code",
      "execution_count": 27,
      "metadata": {},
      "outputs": [],
      "source": [
        "# Define messages\n",
        "messages = [\n",
        "    {\"role\": \"system\", \"content\": \"You are an AI assistant tasked with producing NEUTRAL news article based on the provided articles.\"\n",
        "                                  \"Take in consideration all the provided articles and write a new article as a journalist, ensuring the content\" \n",
        "                                  \"is unbiased, factual, and informative.\"},\n",
        "                                \n",
        "    {\"role\": \"user\", \"content\": content}\n",
        "]\n"
      ]
    },
    {
      "cell_type": "code",
      "execution_count": 30,
      "metadata": {},
      "outputs": [
        {
          "name": "stderr",
          "output_type": "stream",
          "text": [
            "Setting `pad_token_id` to `eos_token_id`:None for open-end generation.\n"
          ]
        },
        {
          "name": "stdout",
          "output_type": "stream",
          "text": [
            "Title: Trump Taps Elon Musk to Lead Department of Government Efficiency, Amid Concerns Over Conflicts of Interest\n",
            "\n",
            "President-elect Donald Trump has appointed Elon Musk, the CEO of Tesla and SpaceX, to lead a newly created Department of Government Efficiency (DOGE), a non-governmental body tasked with slashing government spending and streamlining federal agencies. While Cathie Wood, CEO of ARK Invest, backs Musk's appointment, citing his ability to bring proprietary data to the table, others are raising concerns over potential conflicts of interest.\n",
            "\n",
            "Musk's companies, which include SpaceX, Tesla, and Neuralink, have received billions of dollars in federal contracts over the past decade, and he has been vocal about his desire to reduce regulations and cut government spending. However, critics argue that his appointment could create conflicts of interest, as he may be in a position to benefit from cost-cutting measures that affect his own companies.\n",
            "\n",
            "The concerns are not new, as Trump previously tapped billionaire Carl Icahn to streamline government regulation in 2017. Icahn resigned after seven months amid ethics questions over changes to an energy policy that could have benefited his own company. Musk's appointment has raised similar concerns, with experts citing his vast portfolio across multiple sectors and his potential to benefit from cost-cutting measures.\n",
            "\n",
            "Wood, however, believes Musk's understanding of the current technological landscape gives him a unique perspective on the government's role in the private sector. \"The way we're looking at this is, Elon understands we are at the threshold of a convergence among many technologies,\" she said. \"AI being at the center of it, and proprietary data is winning. So he has more proprietary data from all of these companies than I think any other CEO.\"\n",
            "\n",
            "The specifics of how the DOGE will operate are still unclear, but Trump has stated that it will \"slash excess regulations, cut wasteful expenditures, and restructure federal agencies\" and \"provide advice and guidance from outside of government.\" Musk has said he aims to cut $2 trillion from the federal budget, and will work with the White House and Office of Management and Budget to achieve this goal.\n",
            "\n",
            "While the appointment has raised concerns, Musk's supporters see him as a visionary leader who can bring about positive change. \"We've faced this question about Elon for many years, as he started one company after another,\" Wood said. \"We've seen him overcome incredible odds in his business career.\"\n",
            "\n",
            "As the DOGE gets underway, concerns over conflicts of interest will continue to be a topic of discussion. However, for now, Musk and Ramaswamy are eager to get to work, seeking \"super high-IQ small-government revolutionaries\" to join their team and help drive large-scale structural reform.."
          ]
        }
      ],
      "source": [
        "prompt_len, outputs = repeater(messages)\n",
        "print(outputs[0][\"generated_text\"][prompt_len:], end='.')"
      ]
    },
    {
      "cell_type": "code",
      "execution_count": 29,
      "metadata": {},
      "outputs": [],
      "source": [
        "# Define messages\n",
        "messages = [\n",
        "    {\"role\": \"system\", \"content\": \"You are an AI assistant tasked with producing a NEUTRAL and UNBIASED news article based on the provided articles summaries. \"\n",
        "                                  \"Your goal is to analyze all the provided information and write a single cohesive news article as a professional journalist. \"\n",
        "                                  \"The content must be factual, concise, and informative. Do not include personal opinions or assumptions. \"\n",
        "                                  \"Ensure the tone is formal and journalistic, suitable for a wide audience. \"\n",
        "                                  \"Provide a clear and appropriate title for the article.\"},\n",
        "                                \n",
        "    {\"role\": \"user\", \"content\": content}\n",
        "]\n"
      ]
    },
    {
      "cell_type": "code",
      "execution_count": 50,
      "metadata": {},
      "outputs": [
        {
          "name": "stderr",
          "output_type": "stream",
          "text": [
            "Setting `pad_token_id` to `eos_token_id`:None for open-end generation.\n"
          ]
        },
        {
          "name": "stdout",
          "output_type": "stream",
          "text": [
            "Title: Department of Government Efficiency to Tackle Waste and Improve Efficiency, but Concerns Over Conflicts of Interest Remain\n",
            "\n",
            "A newly announced initiative aims to reduce waste and improve efficiency in the federal government, led by billionaire Elon Musk and Vivek Ramaswamy, as part of the Department of Government Efficiency (DOGE). The non-governmental body's objectives are to streamline operations and cut waste, with Musk bringing his expertise in innovation and data analysis to the table. Cathie Wood, CEO of Ark Invest, believes Musk's companies, including SpaceX and Tesla, possess valuable insights that can inform more efficient government spending.\n",
            "\n",
            "The DOGE plans to leverage Musk's expertise to identify areas of inefficiency and recommend solutions. However, critics have raised concerns about potential conflicts of interest, as Musk's companies operate in industries regulated by federal agencies, and his close relationship with President-elect Donald Trump may compromise his objectivity. The federal code's conflict-of-interest law prohibits government employees from participating in matters where they have a financial stake, but does not apply to outside contractors or advisers like Musk.\n",
            "\n",
            "While Musk has a track record of overcoming challenges in business, his involvement in the DOGE has sparked controversy, with some lawmakers and ethics experts warning that his dominant position in social media and close relationship with Trump may compromise his objectivity. Musk's companies, including SpaceX and Tesla, hold vast amounts of proprietary data, which could potentially benefit his own businesses rather than the broader public.\n",
            "\n",
            "The initiative's feasibility and implementation are uncertain, as it requires legislative backing and may face opposition from lawmakers. Wood notes that the success of the initiative will depend on the support of the Republican majority in the House or Senate, acknowledging that the minority party, led by Democrats, may not have the necessary votes to block or temper the proposal.\n",
            "\n",
            "In conclusion, while the Department of Government Efficiency aims to improve efficiency and reduce waste in the federal government, concerns over conflicts of interest and potential self-serving interests remain a significant challenge. The feasibility and implementation of the initiative will depend on legislative backing and the ability to navigate the complex web of regulations and ethics rules.."
          ]
        }
      ],
      "source": [
        "prompt_len, outputs = repeater(messages)\n",
        "print(outputs[0][\"generated_text\"][prompt_len:], end='.')"
      ]
    },
    {
      "cell_type": "code",
      "execution_count": 51,
      "metadata": {},
      "outputs": [],
      "source": [
        "# Define messages\n",
        "messages = [\n",
        "    {\n",
        "        \"role\": \"system\", \n",
        "        \"content\": (\n",
        "            \"You are an AI assistant tasked with analyzing multiple article summaries provided by  different sources. \"\n",
        "            \"Being an neutral Journalist, write a structured, NEUTRAL, and FACTUAL news article that clearly presents the event or topic. \"\n",
        "            \"Ensure the new produced article remains unbiased and informative, giving balanced attention to each perspective. \"\n",
        "            \"Provide a clear and concise title and present different points of view IF they are spotted on the different articles.\"\n",
        "        )\n",
        "    },\n",
        "    {\"role\": \"user\", \"content\": content}\n",
        "]\n"
      ]
    },
    {
      "cell_type": "code",
      "execution_count": 52,
      "metadata": {},
      "outputs": [
        {
          "name": "stderr",
          "output_type": "stream",
          "text": [
            "You seem to be using the pipelines sequentially on GPU. In order to maximize efficiency please use a dataset\n",
            "Setting `pad_token_id` to `eos_token_id`:None for open-end generation.\n"
          ]
        },
        {
          "name": "stdout",
          "output_type": "stream",
          "text": [
            "**Title:** \"Musk-Leaded Department of Government Efficiency Faces Criticism Over Potential Conflicts of Interest\"\n",
            "\n",
            "A new initiative aimed at reducing government waste and improving efficiency has been announced, with entrepreneur Elon Musk and Vivek Ramaswamy at its helm. The Department of Government Efficiency (DOGE) aims to streamline federal operations and cut unnecessary spending, leveraging the expertise of Musk's companies, including SpaceX and Tesla. However, the appointment has raised concerns about potential conflicts of interest, as Musk's companies operate in areas regulated by federal agencies and he may benefit from his own recommendations.\n",
            "\n",
            "Ark Invest CEO Cathie Wood, a longtime supporter of Musk, believes his unique understanding of the technological landscape and control over vast amounts of proprietary data will bring a fresh perspective to government efficiency initiatives. Wood notes Musk's track record of overcoming challenges in business and his ability to bring innovative solutions to the table. However, critics argue that Musk's involvement presents a risk of self-serving interests, potentially leading to policy changes that benefit his companies rather than the broader public.\n",
            "\n",
            "Musk's appointment as co-director of the DOGE is unusual, given his history of interactions with federal agencies and potential conflict-of-interest issues that may arise from his involvement as a private businessman. The federal code's primary conflict-of-interest law prohibits government employees from participating in matters where they have a financial stake, but does not apply to outside contractors or advisers. This has raised concerns about Musk's ability to objectively advise on government reform, given his significant stakes in industries that could be impacted by his recommendations.\n",
            "\n",
            "The feasibility and implementation of the initiative are uncertain, as it would require legislative backing and may face opposition from lawmakers. Wood acknowledges that the initiative's success will depend on the support of the Republican majority in the House or Senate, stating that the minority party, led by Democrats, may not have the necessary votes to block or temper the proposal.\n",
            "\n",
            "The Department of Government Efficiency has been met with skepticism, with some lawmakers and ethics experts warning that Musk's dominant position in social media and his close relationship with President-elect Donald Trump may compromise his objectivity in advising on government reform. Critics argue that the appointment raises questions about the integrity of the initiative and the potential for self-serving interests to influence policy decisions.\n",
            "\n",
            "In conclusion, while Musk's appointment as co-director of the DOGE presents an opportunity for innovation and fresh perspectives, it also raises concerns about potential conflicts of interest and the integrity of the initiative. The feasibility and success of the DOGE will depend on its ability to navigate these challenges and maintain its objectivity, while also addressing the broader concerns surrounding Musk's involvement.."
          ]
        }
      ],
      "source": [
        "prompt_len, outputs = repeater(messages)\n",
        "print(outputs[0][\"generated_text\"][prompt_len:], end='.')"
      ]
    },
    {
      "cell_type": "code",
      "execution_count": 29,
      "metadata": {},
      "outputs": [],
      "source": [
        "with open('generated_article.json', 'w') as file: \n",
        "    json.dump([outputs[0][\"generated_text\"][prompt_len:]], file, indent=1)"
      ]
    },
    {
      "cell_type": "code",
      "execution_count": 12,
      "metadata": {},
      "outputs": [],
      "source": [
        "gc.collect()\n",
        "torch.cuda.empty_cache()"
      ]
    },
    {
      "cell_type": "code",
      "execution_count": 13,
      "metadata": {},
      "outputs": [],
      "source": [
        "del outputs"
      ]
    },
    {
      "cell_type": "code",
      "execution_count": 14,
      "metadata": {},
      "outputs": [],
      "source": [
        "del model"
      ]
    }
  ],
  "metadata": {
    "accelerator": "GPU",
    "colab": {
      "gpuType": "T4",
      "provenance": []
    },
    "kernelspec": {
      "display_name": "venv",
      "language": "python",
      "name": "python3"
    },
    "language_info": {
      "codemirror_mode": {
        "name": "ipython",
        "version": 3
      },
      "file_extension": ".py",
      "mimetype": "text/x-python",
      "name": "python",
      "nbconvert_exporter": "python",
      "pygments_lexer": "ipython3",
      "version": "3.9.21"
    },
    "widgets": {
      "application/vnd.jupyter.widget-state+json": {
        "0c9dbc6ccede49a8b2bf17034b052c19": {
          "model_module": "@jupyter-widgets/base",
          "model_module_version": "1.2.0",
          "model_name": "LayoutModel",
          "state": {
            "_model_module": "@jupyter-widgets/base",
            "_model_module_version": "1.2.0",
            "_model_name": "LayoutModel",
            "_view_count": null,
            "_view_module": "@jupyter-widgets/base",
            "_view_module_version": "1.2.0",
            "_view_name": "LayoutView",
            "align_content": null,
            "align_items": null,
            "align_self": null,
            "border": null,
            "bottom": null,
            "display": null,
            "flex": null,
            "flex_flow": null,
            "grid_area": null,
            "grid_auto_columns": null,
            "grid_auto_flow": null,
            "grid_auto_rows": null,
            "grid_column": null,
            "grid_gap": null,
            "grid_row": null,
            "grid_template_areas": null,
            "grid_template_columns": null,
            "grid_template_rows": null,
            "height": null,
            "justify_content": null,
            "justify_items": null,
            "left": null,
            "margin": null,
            "max_height": null,
            "max_width": null,
            "min_height": null,
            "min_width": null,
            "object_fit": null,
            "object_position": null,
            "order": null,
            "overflow": null,
            "overflow_x": null,
            "overflow_y": null,
            "padding": null,
            "right": null,
            "top": null,
            "visibility": null,
            "width": null
          }
        },
        "11f297fcc4274958b5c5bda3f159e0d7": {
          "model_module": "@jupyter-widgets/controls",
          "model_module_version": "1.5.0",
          "model_name": "DescriptionStyleModel",
          "state": {
            "_model_module": "@jupyter-widgets/controls",
            "_model_module_version": "1.5.0",
            "_model_name": "DescriptionStyleModel",
            "_view_count": null,
            "_view_module": "@jupyter-widgets/base",
            "_view_module_version": "1.2.0",
            "_view_name": "StyleView",
            "description_width": ""
          }
        },
        "2627ed72f18841c981f9e0a2b8aa48ee": {
          "model_module": "@jupyter-widgets/base",
          "model_module_version": "1.2.0",
          "model_name": "LayoutModel",
          "state": {
            "_model_module": "@jupyter-widgets/base",
            "_model_module_version": "1.2.0",
            "_model_name": "LayoutModel",
            "_view_count": null,
            "_view_module": "@jupyter-widgets/base",
            "_view_module_version": "1.2.0",
            "_view_name": "LayoutView",
            "align_content": null,
            "align_items": null,
            "align_self": null,
            "border": null,
            "bottom": null,
            "display": null,
            "flex": null,
            "flex_flow": null,
            "grid_area": null,
            "grid_auto_columns": null,
            "grid_auto_flow": null,
            "grid_auto_rows": null,
            "grid_column": null,
            "grid_gap": null,
            "grid_row": null,
            "grid_template_areas": null,
            "grid_template_columns": null,
            "grid_template_rows": null,
            "height": null,
            "justify_content": null,
            "justify_items": null,
            "left": null,
            "margin": null,
            "max_height": null,
            "max_width": null,
            "min_height": null,
            "min_width": null,
            "object_fit": null,
            "object_position": null,
            "order": null,
            "overflow": null,
            "overflow_x": null,
            "overflow_y": null,
            "padding": null,
            "right": null,
            "top": null,
            "visibility": null,
            "width": null
          }
        },
        "2bedcbb8663949018cdb54e1b2894795": {
          "model_module": "@jupyter-widgets/base",
          "model_module_version": "1.2.0",
          "model_name": "LayoutModel",
          "state": {
            "_model_module": "@jupyter-widgets/base",
            "_model_module_version": "1.2.0",
            "_model_name": "LayoutModel",
            "_view_count": null,
            "_view_module": "@jupyter-widgets/base",
            "_view_module_version": "1.2.0",
            "_view_name": "LayoutView",
            "align_content": null,
            "align_items": null,
            "align_self": null,
            "border": null,
            "bottom": null,
            "display": null,
            "flex": null,
            "flex_flow": null,
            "grid_area": null,
            "grid_auto_columns": null,
            "grid_auto_flow": null,
            "grid_auto_rows": null,
            "grid_column": null,
            "grid_gap": null,
            "grid_row": null,
            "grid_template_areas": null,
            "grid_template_columns": null,
            "grid_template_rows": null,
            "height": null,
            "justify_content": null,
            "justify_items": null,
            "left": null,
            "margin": null,
            "max_height": null,
            "max_width": null,
            "min_height": null,
            "min_width": null,
            "object_fit": null,
            "object_position": null,
            "order": null,
            "overflow": null,
            "overflow_x": null,
            "overflow_y": null,
            "padding": null,
            "right": null,
            "top": null,
            "visibility": null,
            "width": null
          }
        },
        "56f0d8548d3a4ed9aa284d056ee3c136": {
          "model_module": "@jupyter-widgets/base",
          "model_module_version": "1.2.0",
          "model_name": "LayoutModel",
          "state": {
            "_model_module": "@jupyter-widgets/base",
            "_model_module_version": "1.2.0",
            "_model_name": "LayoutModel",
            "_view_count": null,
            "_view_module": "@jupyter-widgets/base",
            "_view_module_version": "1.2.0",
            "_view_name": "LayoutView",
            "align_content": null,
            "align_items": null,
            "align_self": null,
            "border": null,
            "bottom": null,
            "display": null,
            "flex": null,
            "flex_flow": null,
            "grid_area": null,
            "grid_auto_columns": null,
            "grid_auto_flow": null,
            "grid_auto_rows": null,
            "grid_column": null,
            "grid_gap": null,
            "grid_row": null,
            "grid_template_areas": null,
            "grid_template_columns": null,
            "grid_template_rows": null,
            "height": null,
            "justify_content": null,
            "justify_items": null,
            "left": null,
            "margin": null,
            "max_height": null,
            "max_width": null,
            "min_height": null,
            "min_width": null,
            "object_fit": null,
            "object_position": null,
            "order": null,
            "overflow": null,
            "overflow_x": null,
            "overflow_y": null,
            "padding": null,
            "right": null,
            "top": null,
            "visibility": null,
            "width": null
          }
        },
        "6a864427be804607aa7f009d616d3f97": {
          "model_module": "@jupyter-widgets/controls",
          "model_module_version": "1.5.0",
          "model_name": "HBoxModel",
          "state": {
            "_dom_classes": [],
            "_model_module": "@jupyter-widgets/controls",
            "_model_module_version": "1.5.0",
            "_model_name": "HBoxModel",
            "_view_count": null,
            "_view_module": "@jupyter-widgets/controls",
            "_view_module_version": "1.5.0",
            "_view_name": "HBoxView",
            "box_style": "",
            "children": [
              "IPY_MODEL_96047562598a45069fd9dc9d8f4b393a",
              "IPY_MODEL_93c7fd87c8ed4769aad9a4170caf03f4",
              "IPY_MODEL_e7c60755ec374ade9a830080c58ce078"
            ],
            "layout": "IPY_MODEL_2627ed72f18841c981f9e0a2b8aa48ee"
          }
        },
        "93c7fd87c8ed4769aad9a4170caf03f4": {
          "model_module": "@jupyter-widgets/controls",
          "model_module_version": "1.5.0",
          "model_name": "FloatProgressModel",
          "state": {
            "_dom_classes": [],
            "_model_module": "@jupyter-widgets/controls",
            "_model_module_version": "1.5.0",
            "_model_name": "FloatProgressModel",
            "_view_count": null,
            "_view_module": "@jupyter-widgets/controls",
            "_view_module_version": "1.5.0",
            "_view_name": "ProgressView",
            "bar_style": "success",
            "description": "",
            "description_tooltip": null,
            "layout": "IPY_MODEL_56f0d8548d3a4ed9aa284d056ee3c136",
            "max": 654,
            "min": 0,
            "orientation": "horizontal",
            "style": "IPY_MODEL_e6325cd030ed4100b9933be76b1876ae",
            "value": 654
          }
        },
        "96047562598a45069fd9dc9d8f4b393a": {
          "model_module": "@jupyter-widgets/controls",
          "model_module_version": "1.5.0",
          "model_name": "HTMLModel",
          "state": {
            "_dom_classes": [],
            "_model_module": "@jupyter-widgets/controls",
            "_model_module_version": "1.5.0",
            "_model_name": "HTMLModel",
            "_view_count": null,
            "_view_module": "@jupyter-widgets/controls",
            "_view_module_version": "1.5.0",
            "_view_name": "HTMLView",
            "description": "",
            "description_tooltip": null,
            "layout": "IPY_MODEL_2bedcbb8663949018cdb54e1b2894795",
            "placeholder": "​",
            "style": "IPY_MODEL_11f297fcc4274958b5c5bda3f159e0d7",
            "value": "config.json: 100%"
          }
        },
        "cadff175cb4f4a47a3663628238e088b": {
          "model_module": "@jupyter-widgets/controls",
          "model_module_version": "1.5.0",
          "model_name": "DescriptionStyleModel",
          "state": {
            "_model_module": "@jupyter-widgets/controls",
            "_model_module_version": "1.5.0",
            "_model_name": "DescriptionStyleModel",
            "_view_count": null,
            "_view_module": "@jupyter-widgets/base",
            "_view_module_version": "1.2.0",
            "_view_name": "StyleView",
            "description_width": ""
          }
        },
        "e6325cd030ed4100b9933be76b1876ae": {
          "model_module": "@jupyter-widgets/controls",
          "model_module_version": "1.5.0",
          "model_name": "ProgressStyleModel",
          "state": {
            "_model_module": "@jupyter-widgets/controls",
            "_model_module_version": "1.5.0",
            "_model_name": "ProgressStyleModel",
            "_view_count": null,
            "_view_module": "@jupyter-widgets/base",
            "_view_module_version": "1.2.0",
            "_view_name": "StyleView",
            "bar_color": null,
            "description_width": ""
          }
        },
        "e7c60755ec374ade9a830080c58ce078": {
          "model_module": "@jupyter-widgets/controls",
          "model_module_version": "1.5.0",
          "model_name": "HTMLModel",
          "state": {
            "_dom_classes": [],
            "_model_module": "@jupyter-widgets/controls",
            "_model_module_version": "1.5.0",
            "_model_name": "HTMLModel",
            "_view_count": null,
            "_view_module": "@jupyter-widgets/controls",
            "_view_module_version": "1.5.0",
            "_view_name": "HTMLView",
            "description": "",
            "description_tooltip": null,
            "layout": "IPY_MODEL_0c9dbc6ccede49a8b2bf17034b052c19",
            "placeholder": "​",
            "style": "IPY_MODEL_cadff175cb4f4a47a3663628238e088b",
            "value": " 654/654 [00:00&lt;00:00, 42.4kB/s]"
          }
        }
      }
    }
  },
  "nbformat": 4,
  "nbformat_minor": 0
}
