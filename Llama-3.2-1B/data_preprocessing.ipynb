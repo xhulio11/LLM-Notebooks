{
 "cells": [
  {
   "cell_type": "code",
   "execution_count": 1,
   "metadata": {},
   "outputs": [
    {
     "name": "stderr",
     "output_type": "stream",
     "text": [
      "/home/t/tzelilai/Desktop/Thesis/venv/lib64/python3.9/site-packages/tqdm/auto.py:21: TqdmWarning: IProgress not found. Please update jupyter and ipywidgets. See https://ipywidgets.readthedocs.io/en/stable/user_install.html\n",
      "  from .autonotebook import tqdm as notebook_tqdm\n"
     ]
    }
   ],
   "source": [
    "import os, json \n",
    "from datasets import DatasetDict, ClassLabel, Dataset\n",
    "from sklearn.model_selection import train_test_split"
   ]
  },
  {
   "cell_type": "code",
   "execution_count": 4,
   "metadata": {},
   "outputs": [],
   "source": [
    "# path of articles in json format \n",
    "articles_path = '/home/t/tzelilai/Desktop/Thesis/Article-Bias-Prediction-main/data/jsons'\n",
    "\n",
    "# List to store data \n",
    "data = []\n",
    "\n",
    "# Read each JSON file and append its content\n",
    "for file_name in os.listdir(articles_path):\n",
    "    if file_name.endswith(\".json\"):\n",
    "        with open(os.path.join(articles_path, file_name), \"r\") as f:\n",
    "            json_data = json.load(f)\n",
    "            format_data = {\"content\":json_data['content'], \"labels\":json_data[\"bias_text\"]}\n",
    "            data.append(format_data)"
   ]
  },
  {
   "cell_type": "code",
   "execution_count": 5,
   "metadata": {},
   "outputs": [],
   "source": [
    "# Split the data list into training and testing\n",
    "train_data, test_data = train_test_split(data, test_size=0.2, random_state=42)\n",
    "\n",
    "train_data, eval_data = train_test_split(train_data, test_size=0.2, random_state=42)\n",
    "\n",
    "# Create Dataset objects for train and test splits\n",
    "train_dataset = Dataset.from_list(train_data)\n",
    "eval_dataset = Dataset.from_list(eval_data)\n",
    "test_dataset = Dataset.from_list(test_data)"
   ]
  },
  {
   "cell_type": "code",
   "execution_count": 6,
   "metadata": {},
   "outputs": [
    {
     "name": "stderr",
     "output_type": "stream",
     "text": [
      "Map: 100%|██████████| 24034/24034 [00:01<00:00, 14592.88 examples/s]\n",
      "Map: 100%|██████████| 6009/6009 [00:00<00:00, 14450.62 examples/s]\n",
      "Map: 100%|██████████| 7511/7511 [00:00<00:00, 15279.14 examples/s]\n"
     ]
    }
   ],
   "source": [
    "# Define the ClassLabel\n",
    "class_label = ClassLabel(num_classes=3, names=[\"left\", \"center\", \"right\"])\n",
    "\n",
    "# Map the labels to ClassLabel integers for each dataset\n",
    "def encode_labels(example):\n",
    "    example[\"labels\"] = class_label.str2int(example[\"labels\"])\n",
    "    return example\n",
    "\n",
    "train_dataset = train_dataset.map(encode_labels)\n",
    "eval_dataset = eval_dataset.map(encode_labels)\n",
    "test_dataset = test_dataset.map(encode_labels)\n"
   ]
  },
  {
   "cell_type": "code",
   "execution_count": 7,
   "metadata": {},
   "outputs": [],
   "source": [
    "# Combine the train and test datasets into a DatasetDict\n",
    "dataset = DatasetDict({\"train\": train_dataset, \"test\": test_dataset, \"eval\":eval_dataset})"
   ]
  },
  {
   "cell_type": "code",
   "execution_count": 8,
   "metadata": {},
   "outputs": [
    {
     "name": "stdout",
     "output_type": "stream",
     "text": [
      "DatasetDict({\n",
      "    train: Dataset({\n",
      "        features: ['content', 'labels'],\n",
      "        num_rows: 24034\n",
      "    })\n",
      "    test: Dataset({\n",
      "        features: ['content', 'labels'],\n",
      "        num_rows: 7511\n",
      "    })\n",
      "    eval: Dataset({\n",
      "        features: ['content', 'labels'],\n",
      "        num_rows: 6009\n",
      "    })\n",
      "})\n"
     ]
    }
   ],
   "source": [
    "print(dataset)"
   ]
  },
  {
   "cell_type": "code",
   "execution_count": 9,
   "metadata": {},
   "outputs": [
    {
     "name": "stderr",
     "output_type": "stream",
     "text": [
      "Saving the dataset (1/1 shards): 100%|██████████| 24034/24034 [00:00<00:00, 89568.70 examples/s]\n",
      "Saving the dataset (1/1 shards): 100%|██████████| 7511/7511 [00:00<00:00, 87248.96 examples/s]\n",
      "Saving the dataset (1/1 shards): 100%|██████████| 6009/6009 [00:00<00:00, 78308.93 examples/s]\n"
     ]
    }
   ],
   "source": [
    "dataset.save_to_disk(\"articles_dataset_modified\")"
   ]
  },
  {
   "cell_type": "code",
   "execution_count": 2,
   "metadata": {},
   "outputs": [],
   "source": [
    "from datasets import load_from_disk\n",
    "\n",
    "# Load from disk\n",
    "loaded_dataset = load_from_disk(\"articles_dataset\")\n",
    "\n",
    "lengths = [len(text) for text in loaded_dataset['train']['content']]"
   ]
  },
  {
   "cell_type": "code",
   "execution_count": null,
   "metadata": {},
   "outputs": [],
   "source": [
    "small = []\n",
    "large = []\n",
    "for length in lengths: \n",
    "    if length < 5000: \n",
    "        small.append(length)\n",
    "    elif length > 10192:\n",
    "        large.append(length) \n",
    "\n",
    "print(\"Small articles are: \", len(small))\n",
    "print(\"Large articles are: \", len(large))"
   ]
  },
  {
   "cell_type": "code",
   "execution_count": 3,
   "metadata": {},
   "outputs": [
    {
     "name": "stdout",
     "output_type": "stream",
     "text": [
      "Dataset({\n",
      "    features: ['content', 'labels'],\n",
      "    num_rows: 7511\n",
      "})\n"
     ]
    }
   ],
   "source": [
    "print(loaded_dataset['test'])"
   ]
  }
 ],
 "metadata": {
  "kernelspec": {
   "display_name": "venv",
   "language": "python",
   "name": "python3"
  },
  "language_info": {
   "codemirror_mode": {
    "name": "ipython",
    "version": 3
   },
   "file_extension": ".py",
   "mimetype": "text/x-python",
   "name": "python",
   "nbconvert_exporter": "python",
   "pygments_lexer": "ipython3",
   "version": "3.9.21"
  }
 },
 "nbformat": 4,
 "nbformat_minor": 2
}
