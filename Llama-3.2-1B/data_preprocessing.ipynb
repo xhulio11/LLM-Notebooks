{
 "cells": [
  {
   "cell_type": "code",
   "execution_count": 1,
   "metadata": {},
   "outputs": [
    {
     "name": "stderr",
     "output_type": "stream",
     "text": [
      "/home/t/tzelilai/Desktop/Thesis/venv/lib64/python3.9/site-packages/tqdm/auto.py:21: TqdmWarning: IProgress not found. Please update jupyter and ipywidgets. See https://ipywidgets.readthedocs.io/en/stable/user_install.html\n",
      "  from .autonotebook import tqdm as notebook_tqdm\n"
     ]
    }
   ],
   "source": [
    "import os, json \n",
    "from datasets import DatasetDict, ClassLabel, Dataset, load_from_disk\n",
    "from sklearn.model_selection import train_test_split"
   ]
  },
  {
   "cell_type": "code",
   "execution_count": 2,
   "metadata": {},
   "outputs": [],
   "source": [
    "# path of articles in json format \n",
    "articles_path = '/home/t/tzelilai/Desktop/Thesis/Article-Bias-Prediction-main/data/jsons'\n",
    "\n",
    "# List to store data \n",
    "data = []\n",
    "i = 0 \n",
    "j = 0 \n",
    "# Read each JSON file and append its content\n",
    "for file_name in os.listdir(articles_path):\n",
    "    if file_name.endswith(\".json\"):\n",
    "        with open(os.path.join(articles_path, file_name), \"r\") as f:\n",
    "            i += 1\n",
    "            json_data = json.load(f)\n",
    "            if len(json_data[\"content\"]) <= 7000:\n",
    "                j += 1\n",
    "                format_data = {\"content\":json_data['content'], \"labels\":json_data[\"bias_text\"]}\n",
    "                data.append(format_data)"
   ]
  },
  {
   "cell_type": "code",
   "execution_count": 3,
   "metadata": {},
   "outputs": [
    {
     "name": "stdout",
     "output_type": "stream",
     "text": [
      "number of articles checked: 37554\n",
      "number of articles accepted: 28100\n"
     ]
    }
   ],
   "source": [
    "print(f\"number of articles checked: {i}\")\n",
    "print(f\"number of articles accepted: {j}\")"
   ]
  },
  {
   "cell_type": "code",
   "execution_count": 4,
   "metadata": {},
   "outputs": [],
   "source": [
    "# Split the data list into training and testing\n",
    "train_data, test_data = train_test_split(data, test_size=0.2, random_state=42)\n",
    "\n",
    "train_data, eval_data = train_test_split(train_data, test_size=0.2, random_state=42)\n",
    "\n",
    "# Create Dataset objects for train and test splits\n",
    "train_dataset = Dataset.from_list(train_data)\n",
    "eval_dataset = Dataset.from_list(eval_data)\n",
    "test_dataset = Dataset.from_list(test_data)"
   ]
  },
  {
   "cell_type": "code",
   "execution_count": 5,
   "metadata": {},
   "outputs": [
    {
     "name": "stderr",
     "output_type": "stream",
     "text": [
      "Map: 100%|██████████| 17984/17984 [00:00<00:00, 26150.11 examples/s]\n",
      "Map: 100%|██████████| 4496/4496 [00:00<00:00, 26907.97 examples/s]\n",
      "Map: 100%|██████████| 5620/5620 [00:00<00:00, 26509.54 examples/s]\n"
     ]
    }
   ],
   "source": [
    "# Define the ClassLabel\n",
    "class_label = ClassLabel(num_classes=3, names=[\"left\", \"center\", \"right\"])\n",
    "\n",
    "# Map the labels to ClassLabel integers for each dataset\n",
    "def encode_labels(example):\n",
    "    example[\"labels\"] = class_label.str2int(example[\"labels\"])\n",
    "    return example\n",
    "\n",
    "train_dataset = train_dataset.map(encode_labels)\n",
    "eval_dataset = eval_dataset.map(encode_labels)\n",
    "test_dataset = test_dataset.map(encode_labels)\n"
   ]
  },
  {
   "cell_type": "code",
   "execution_count": 13,
   "metadata": {},
   "outputs": [],
   "source": [
    "n = len(test_dataset)\n",
    "size = 8\n",
    "part_size = n // size\n",
    "splits = []\n",
    "\n",
    "for i in range(size):\n",
    "    start = i * part_size\n",
    "    end = (i + 1) * part_size\n",
    "    # Handle any remainder in the last split if n isn't perfectly divisible by 5:\n",
    "    if i == size - 1: \n",
    "        end = n\n",
    "    split_i = test_dataset.select(range(start, end))\n",
    "    splits.append(split_i)"
   ]
  },
  {
   "cell_type": "code",
   "execution_count": 14,
   "metadata": {},
   "outputs": [
    {
     "name": "stdout",
     "output_type": "stream",
     "text": [
      "[Dataset({\n",
      "    features: ['content', 'labels'],\n",
      "    num_rows: 702\n",
      "}), Dataset({\n",
      "    features: ['content', 'labels'],\n",
      "    num_rows: 702\n",
      "}), Dataset({\n",
      "    features: ['content', 'labels'],\n",
      "    num_rows: 702\n",
      "}), Dataset({\n",
      "    features: ['content', 'labels'],\n",
      "    num_rows: 702\n",
      "}), Dataset({\n",
      "    features: ['content', 'labels'],\n",
      "    num_rows: 702\n",
      "}), Dataset({\n",
      "    features: ['content', 'labels'],\n",
      "    num_rows: 702\n",
      "}), Dataset({\n",
      "    features: ['content', 'labels'],\n",
      "    num_rows: 702\n",
      "}), Dataset({\n",
      "    features: ['content', 'labels'],\n",
      "    num_rows: 706\n",
      "})]\n"
     ]
    }
   ],
   "source": [
    "print(splits)"
   ]
  },
  {
   "cell_type": "code",
   "execution_count": 15,
   "metadata": {},
   "outputs": [],
   "source": [
    "# Combine the train and test datasets into a DatasetDict\n",
    "dataset = DatasetDict({\"train\": train_dataset, \"test\": DatasetDict({str(i): test_split for i,test_split in enumerate(splits)}), \"eval\":eval_dataset})"
   ]
  },
  {
   "cell_type": "code",
   "execution_count": 16,
   "metadata": {},
   "outputs": [
    {
     "name": "stderr",
     "output_type": "stream",
     "text": [
      "Saving the dataset (1/1 shards): 100%|██████████| 17984/17984 [00:00<00:00, 155692.17 examples/s]\n",
      "Saving the dataset (1/1 shards): 100%|██████████| 702/702 [00:00<00:00, 60538.30 examples/s]\n",
      "Saving the dataset (1/1 shards): 100%|██████████| 702/702 [00:00<00:00, 63530.86 examples/s]\n",
      "Saving the dataset (1/1 shards): 100%|██████████| 702/702 [00:00<00:00, 60513.42 examples/s]\n",
      "Saving the dataset (1/1 shards): 100%|██████████| 702/702 [00:00<00:00, 60458.75 examples/s]\n",
      "Saving the dataset (1/1 shards): 100%|██████████| 702/702 [00:00<00:00, 59804.23 examples/s]\n",
      "Saving the dataset (1/1 shards): 100%|██████████| 702/702 [00:00<00:00, 59621.37 examples/s]\n",
      "Saving the dataset (1/1 shards): 100%|██████████| 702/702 [00:00<00:00, 59824.89 examples/s]\n",
      "Saving the dataset (1/1 shards): 100%|██████████| 706/706 [00:00<00:00, 56329.37 examples/s]\n",
      "Saving the dataset (1/1 shards): 100%|██████████| 4496/4496 [00:00<00:00, 101386.53 examples/s]\n"
     ]
    }
   ],
   "source": [
    "dataset.save_to_disk(\"articles_dataset_les-than-7000-tokens-splitted-mistral\")"
   ]
  },
  {
   "cell_type": "code",
   "execution_count": 6,
   "metadata": {},
   "outputs": [],
   "source": [
    "# Load from disk\n",
    "test_sp_dataset = load_from_disk(\"/home/t/tzelilai/Desktop/Thesis/Llama-3.2-1B/articles_dataset_les-than-7000-tokens-splitted/test\")\n"
   ]
  },
  {
   "cell_type": "code",
   "execution_count": 7,
   "metadata": {},
   "outputs": [
    {
     "name": "stdout",
     "output_type": "stream",
     "text": [
      "Dataset({\n",
      "    features: ['content', 'labels'],\n",
      "    num_rows: 936\n",
      "})\n"
     ]
    }
   ],
   "source": [
    "print(test_sp_dataset['0'])"
   ]
  }
 ],
 "metadata": {
  "kernelspec": {
   "display_name": "venv",
   "language": "python",
   "name": "python3"
  },
  "language_info": {
   "codemirror_mode": {
    "name": "ipython",
    "version": 3
   },
   "file_extension": ".py",
   "mimetype": "text/x-python",
   "name": "python",
   "nbconvert_exporter": "python",
   "pygments_lexer": "ipython3",
   "version": "3.9.18"
  }
 },
 "nbformat": 4,
 "nbformat_minor": 2
}
