{
 "cells": [
  {
   "cell_type": "code",
   "execution_count": 17,
   "metadata": {},
   "outputs": [],
   "source": [
    "import transformers\n",
    "import torch \n",
    "import gc \n",
    "from tokens import *"
   ]
  },
  {
   "cell_type": "code",
   "execution_count": 15,
   "metadata": {},
   "outputs": [],
   "source": [
    "\n",
    "def chunk_text(text, tokenizer, max_length=500):\n",
    "    \"\"\"\n",
    "    This function chunks the input text into smaller pieces that fit the model's token limit.\n",
    "    \"\"\"\n",
    "    # Tokenize the entire text and get input IDs\n",
    "    inputs = tokenizer.encode(text, add_special_tokens=False)  # Do not add [CLS] and [SEP] tokens yet\n",
    "    \n",
    "    # Split the tokens into chunks of size max_length - 2 to account for [CLS] and [SEP]\n",
    "    chunks = [inputs[i:i + (max_length - 2)] for i in range(0, len(inputs), max_length - 2)]\n",
    "    \n",
    "    # Reconstruct the chunks into proper inputs by adding special tokens ([CLS], [SEP])\n",
    "    chunked_texts = [tokenizer.decode([tokenizer.cls_token_id] + chunk + [tokenizer.sep_token_id], \n",
    "                                      skip_special_tokens=False) for chunk in chunks]\n",
    "    \n",
    "    return chunked_texts\n",
    "\n",
    "\n",
    "def aggregate_results(results):\n",
    "    # Initialize a dictionary to store the sum of scores for each label\n",
    "    total_scores = {'LEFT': 0, 'CENTER': 0, 'RIGHT': 0}\n",
    "    \n",
    "    # Sum the scores for each label across all chunks\n",
    "    for result in results:\n",
    "        for bias in result:\n",
    "            \n",
    "            if bias['label'] == 'LEFT':\n",
    "                total_scores['LEFT'] += bias['score']\n",
    "            elif bias['label'] == 'RIGHT':\n",
    "                total_scores['RIGHT'] += bias['score']\n",
    "            else: \n",
    "                total_scores['CENTER'] += bias['score']\n",
    "                \n",
    "    # Calculate the average score for each label\n",
    "    for label in total_scores:\n",
    "        total_scores[label] /= len(results)\n",
    "    \n",
    "    return total_scores\n"
   ]
  },
  {
   "cell_type": "code",
   "execution_count": 4,
   "metadata": {},
   "outputs": [],
   "source": [
    "gc.collect()\n",
    "torch.cuda.empty_cache()"
   ]
  },
  {
   "cell_type": "code",
   "execution_count": 12,
   "metadata": {},
   "outputs": [
    {
     "name": "stderr",
     "output_type": "stream",
     "text": [
      "Some weights of the PyTorch model were not used when initializing the TF 2.0 model TFBertForSequenceClassification: ['bert.embeddings.position_ids']\n",
      "- This IS expected if you are initializing TFBertForSequenceClassification from a PyTorch model trained on another task or with another architecture (e.g. initializing a TFBertForSequenceClassification model from a BertForPreTraining model).\n",
      "- This IS NOT expected if you are initializing TFBertForSequenceClassification from a PyTorch model that you expect to be exactly identical (e.g. initializing a TFBertForSequenceClassification model from a BertForSequenceClassification model).\n",
      "All the weights of TFBertForSequenceClassification were initialized from the PyTorch model.\n",
      "If your task is similar to the task the model of the checkpoint was trained on, you can already use TFBertForSequenceClassification for predictions without further training.\n"
     ]
    }
   ],
   "source": [
    "# Load the model and tokenizer with the access token\n",
    "model = transformers.TFAutoModelForSequenceClassification.from_pretrained(\n",
    "    model_id,\n",
    "    token=access_token\n",
    ")\n",
    "tokenizer = transformers.AutoTokenizer.from_pretrained(\n",
    "    model_id,\n",
    "    token=access_token,\n",
    "    truncation=True\n",
    ")\n",
    "\n",
    "# Create the pipeline with the specified model and tokenizer\n",
    "pipeline = transformers.pipeline(\n",
    "    \"text-classification\",\n",
    "    model=model,\n",
    "    tokenizer=tokenizer,\n",
    "    return_all_scores=True,\n",
    "    device=0 if torch.cuda.is_available() else -1\n",
    ")"
   ]
  },
  {
   "cell_type": "code",
   "execution_count": 6,
   "metadata": {},
   "outputs": [],
   "source": [
    "with open('output.txt','r') as f:\n",
    "  original_content = f.read()\n"
   ]
  },
  {
   "cell_type": "code",
   "execution_count": 7,
   "metadata": {},
   "outputs": [],
   "source": [
    "with open('mistral_output.txt', 'r') as file:\n",
    "    modified_content = file.read()"
   ]
  },
  {
   "cell_type": "code",
   "execution_count": 8,
   "metadata": {},
   "outputs": [],
   "source": [
    "original_chunks = chunk_text(original_content, tokenizer)\n",
    "modified_chunks = chunk_text(modified_content, tokenizer)"
   ]
  },
  {
   "cell_type": "code",
   "execution_count": 9,
   "metadata": {},
   "outputs": [
    {
     "name": "stdout",
     "output_type": "stream",
     "text": [
      "[CLS] the house leadership has started debating thursday on a border security bill to address the immigration crisis, but conservatives, led by texas sen. ted cruz, say they may refuse to sign - on without language that would put an end to what they call the ` ` obama amnesty ' ' law. cruz convened a meetin g wednesday night with 11 rank - and - file house members to try to persuade them to vote against house speaker john boehner ' s version of the bill on the basis that the measure does not defund president barack obama ' s deferred action for child arrivals [ daca ] executive order. the current leadership b ill leaves daca intact but simply prohibits any official policies to expand its scope, a position conservatives say is not acceptable. speaker john bo ehner gave indications he might give cruz a concession by adding a vote on a second bill on thursday. ` ` i have been speaking with members in both ho uses who have an interest in my views, ' ' cruz told reuters late on wednesday. the second bill would stop obama from expanding his 2012 action to susp end deportations of children brought by their parents to the united states before mid - 2007. after the meeting with cruz, minnesota rep. michele bachma nn suggested she and other conservatives may withhold their support from the current version of the $ 659 million border bill without stronger languag e on daca, politico reported. their refusal to sign - on could jeopardize the chances of the bill ' s passage, though a number of democrats have said th ey would support the bill, according to politico. ` ` there is support for the daca fix, ' ' bachmann told politico. ` ` i think you will see the dac a - fix bill pass. ` ` iowa rep. steve king, texas rep louie gohmert, and arizona rep. matt salmon were also among those at the meeting. cruz believes that 2012 daca law, which allows the president to issue work permits to people in the country illegally, is ` ` the direct and proximate cause ' [SEP]\n",
      "[CLS] ' of the current crisis, and argues that any house bill should prevent the future implementation of daca, according to breitbart ` ` the only way to stop the border crisis is to stop obama ' s amnesty. it is disappointing the border security legislation unveiled today does not include language to end ob ama ' s amnesty, ' ' cruz said tuesday. ` ` congress can not hope to solve this problem without addressing the fundamental cause of it. ` ` in an inter view wednesday on fox news ' ` ` on the record with greta van susteren, ' ' cruz went a step further saying, ` ` if you ' re granting amnesty to people who come as kids, other kids will come. ` ` even with the new daca strategy put into the legislation, some conservatives wednesday still were n ' t sa tisfied, according to politico. alabama rep. mo brooks said the measures still don ’ t provide adequate border security, and iowa rep. king wants t ougher asylum language. the leadership ' s ability to seal a deal is now down to the wire, as the house adjourns friday for a five - week recess. meanwhil e, cruz said he has introduced a two - page bill in the senate that says the president does not have authority to grant amnesty to any new illegal immi grants. ` ` we should have done our basic job a long time ago, ' ' he said. meanwhile, in order for boehner ' s bill to pass without full support of al l republicans, democrats would have to vote for the measure. that seemed iffy, with house minority leader nancy pelosi saying the gop would be on i ts own. pelosi said democrats were n ' t necessarily on board. according to the hill. ` ` let me put it this way : the democrats are not going to enable that bill to pass. that ' s the number that we ' re interested in, ' ' pelosi said. ` ` they [ republicans ] are going to have to do that on their own. ' ' [SEP]\n",
      "2\n"
     ]
    }
   ],
   "source": [
    "print(original_chunks[0])\n",
    "print(original_chunks[1])\n",
    "print(len(original_chunks))"
   ]
  },
  {
   "cell_type": "code",
   "execution_count": 13,
   "metadata": {},
   "outputs": [],
   "source": [
    "# Batch processing for original_content\n",
    "original_results = pipeline(original_chunks, batch_size=4)\n",
    "\n",
    "# Batch processing for modified_content\n",
    "modified_results = pipeline(modified_chunks, batch_size=4)"
   ]
  },
  {
   "cell_type": "code",
   "execution_count": 10,
   "metadata": {},
   "outputs": [
    {
     "name": "stdout",
     "output_type": "stream",
     "text": [
      "[[{'label': 'LEFT', 'score': 0.09173677116632462}, {'label': 'CENTER', 'score': 0.1815633773803711}, {'label': 'RIGHT', 'score': 0.7266998291015625}], [{'label': 'LEFT', 'score': 0.08783844113349915}, {'label': 'CENTER', 'score': 0.7113876342773438}, {'label': 'RIGHT', 'score': 0.20077389478683472}]]\n"
     ]
    }
   ],
   "source": [
    "print(original_results)"
   ]
  },
  {
   "cell_type": "code",
   "execution_count": 12,
   "metadata": {},
   "outputs": [
    {
     "name": "stdout",
     "output_type": "stream",
     "text": [
      "[[{'label': 'LEFT', 'score': 0.897503137588501}, {'label': 'CENTER', 'score': 0.06844838708639145}, {'label': 'RIGHT', 'score': 0.03404853492975235}], [{'label': 'LEFT', 'score': 0.6523699760437012}, {'label': 'CENTER', 'score': 0.24558360874652863}, {'label': 'RIGHT', 'score': 0.10204644501209259}]]\n"
     ]
    }
   ],
   "source": [
    "print(modified_results)"
   ]
  },
  {
   "cell_type": "code",
   "execution_count": 17,
   "metadata": {},
   "outputs": [
    {
     "name": "stdout",
     "output_type": "stream",
     "text": [
      "origianl text:  {'LEFT': 0.08978760614991188, 'CENTER': 0.4464755058288574, 'RIGHT': 0.4637368619441986}\n",
      "modified_content: {'LEFT': 0.7749365568161011, 'CENTER': 0.15701599791646004, 'RIGHT': 0.06804748997092247}\n"
     ]
    }
   ],
   "source": [
    "original_results = aggregate_results(original_results)\n",
    "modified_resutls = aggregate_results(modified_results)\n",
    "\n",
    "print('origianl text: ', original_results)\n",
    "print('modified_content:', modified_resutls)"
   ]
  }
 ],
 "metadata": {
  "kernelspec": {
   "display_name": "venv_d4data",
   "language": "python",
   "name": "python3"
  },
  "language_info": {
   "codemirror_mode": {
    "name": "ipython",
    "version": 3
   },
   "file_extension": ".py",
   "mimetype": "text/x-python",
   "name": "python",
   "nbconvert_exporter": "python",
   "pygments_lexer": "ipython3",
   "version": "3.9.18"
  }
 },
 "nbformat": 4,
 "nbformat_minor": 2
}
