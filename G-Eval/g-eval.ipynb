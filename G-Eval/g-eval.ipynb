{
 "cells": [
  {
   "cell_type": "code",
   "execution_count": 16,
   "metadata": {},
   "outputs": [],
   "source": [
    "from transformers import AutoModelForCausalLM, AutoTokenizer, BitsAndBytesConfig\n",
    "import transformers\n",
    "from deepeval.models.base_model import DeepEvalBaseLLM\n",
    "import gc, torch, asyncio, json\n",
    "from pydantic import BaseModel\n",
    "from lmformatenforcer import JsonSchemaParser\n",
    "from lmformatenforcer.integrations.transformers import (\n",
    "    build_transformers_prefix_allowed_tokens_fn,\n",
    ")\n",
    "from tokens1 import *"
   ]
  },
  {
   "cell_type": "code",
   "execution_count": 2,
   "metadata": {},
   "outputs": [],
   "source": [
    "gc.collect()\n",
    "torch.cuda.empty_cache()"
   ]
  },
  {
   "cell_type": "code",
   "execution_count": 3,
   "metadata": {},
   "outputs": [
    {
     "name": "stderr",
     "output_type": "stream",
     "text": [
      "/home/t/tzelilai/Desktop/Thesis/venv/lib64/python3.9/site-packages/transformers/models/auto/auto_factory.py:471: FutureWarning: The `use_auth_token` argument is deprecated and will be removed in v5 of Transformers. Please use `token` instead.\n",
      "  warnings.warn(\n",
      "The `load_in_4bit` and `load_in_8bit` arguments are deprecated and will be removed in the future versions. Please, pass a `BitsAndBytesConfig` object in `quantization_config` argument instead.\n",
      "`low_cpu_mem_usage` was None, now set to True since model is quantized.\n",
      "Loading checkpoint shards: 100%|██████████| 3/3 [00:03<00:00,  1.32s/it]\n",
      "/home/t/tzelilai/Desktop/Thesis/venv/lib64/python3.9/site-packages/transformers/models/auto/tokenization_auto.py:796: FutureWarning: The `use_auth_token` argument is deprecated and will be removed in v5 of Transformers. Please use `token` instead.\n",
      "  warnings.warn(\n"
     ]
    }
   ],
   "source": [
    "# Load the model and tokenizer with the access token\n",
    "model = AutoModelForCausalLM.from_pretrained(\n",
    "    model_id,\n",
    "    use_auth_token=access_token,\n",
    "    torch_dtype=torch.bfloat16,\n",
    "    load_in_4bit=True\n",
    ")\n",
    "tokenizer = AutoTokenizer.from_pretrained(\n",
    "    model_id,\n",
    "    use_auth_token=access_token\n",
    ")"
   ]
  },
  {
   "cell_type": "code",
   "execution_count": 13,
   "metadata": {},
   "outputs": [
    {
     "name": "stderr",
     "output_type": "stream",
     "text": [
      "/home/t/tzelilai/Desktop/Thesis/venv/lib64/python3.9/site-packages/transformers/models/auto/auto_factory.py:471: FutureWarning: The `use_auth_token` argument is deprecated and will be removed in v5 of Transformers. Please use `token` instead.\n",
      "  warnings.warn(\n",
      "The `load_in_4bit` and `load_in_8bit` arguments are deprecated and will be removed in the future versions. Please, pass a `BitsAndBytesConfig` object in `quantization_config` argument instead.\n",
      "`low_cpu_mem_usage` was None, now set to True since model is quantized.\n",
      "Loading checkpoint shards: 100%|██████████| 3/3 [00:04<00:00,  1.46s/it]\n",
      "/home/t/tzelilai/Desktop/Thesis/venv/lib64/python3.9/site-packages/transformers/models/auto/tokenization_auto.py:796: FutureWarning: The `use_auth_token` argument is deprecated and will be removed in v5 of Transformers. Please use `token` instead.\n",
      "  warnings.warn(\n"
     ]
    }
   ],
   "source": [
    "class Mistral7B(DeepEvalBaseLLM):\n",
    "    def __init__(self, model, tokenizer):\n",
    "        self.model = model\n",
    "        self.tokenizer = tokenizer\n",
    "\n",
    "    def load_model(self):\n",
    "        return self.model\n",
    "\n",
    "    def generate(self, prompt: str) -> str:\n",
    "        model = self.load_model()\n",
    "\n",
    "        device = \"cuda\" # the device to load the model onto\n",
    "\n",
    "        model_inputs = self.tokenizer([prompt], return_tensors=\"pt\").to(device)\n",
    "        model.to(device)\n",
    "\n",
    "        generated_ids = model.generate(**model_inputs, max_new_tokens=100, do_sample=True)\n",
    "        return self.tokenizer.batch_decode(generated_ids)[0]\n",
    "    \n",
    "    async def a_generate(self, prompt: str) -> str:\n",
    "        loop = asyncio.get_running_loop()\n",
    "        return await loop.run_in_executor(None, self.generate, prompt)\n",
    "\n",
    "    def get_model_name(self):\n",
    "        return \"Mistral 7B\"\n",
    "\n",
    "mistral_7b = Mistral7B(model=model, tokenizer=tokenizer)"
   ]
  },
  {
   "cell_type": "code",
   "execution_count": 17,
   "metadata": {},
   "outputs": [
    {
     "name": "stderr",
     "output_type": "stream",
     "text": [
      "Loading checkpoint shards: 100%|██████████| 3/3 [00:06<00:00,  2.20s/it]\n"
     ]
    }
   ],
   "source": [
    "class CustomMistral7B(DeepEvalBaseLLM):\n",
    "    def __init__(self, model=None, tokenizer=None):\n",
    "        quantization_config = BitsAndBytesConfig(\n",
    "            load_in_4bit=True,\n",
    "            bnb_4bit_compute_dtype=torch.float16,\n",
    "            bnb_4bit_quant_type=\"nf4\",\n",
    "            bnb_4bit_use_double_quant=True,\n",
    "        )\n",
    "\n",
    "        model_4bit = AutoModelForCausalLM.from_pretrained(\n",
    "            \"mistralai/Mistral-7B-Instruct-v0.3\",\n",
    "            device_map=\"auto\",\n",
    "            quantization_config=quantization_config,\n",
    "        )\n",
    "        tokenizer = AutoTokenizer.from_pretrained(\n",
    "            \"mistralai/Mistral-7B-Instruct-v0.3\"\n",
    "        )\n",
    "\n",
    "        self.model = model_4bit if model is None else model \n",
    "        self.tokenizer = tokenizer if tokenizer is None else tokenizer\n",
    "\n",
    "    def load_model(self):\n",
    "        return self.model\n",
    "\n",
    "    def generate(self, prompt: str, schema: BaseModel) -> BaseModel:\n",
    "        model = self.load_model()\n",
    "        pipeline = transformers.pipeline(\n",
    "            \"text-generation\",\n",
    "            model=model,\n",
    "            tokenizer=self.tokenizer,\n",
    "            use_cache=True,\n",
    "            device_map=\"auto\",\n",
    "            max_length=2500,\n",
    "            do_sample=True,\n",
    "            top_k=5,\n",
    "            num_return_sequences=1,\n",
    "            eos_token_id=self.tokenizer.eos_token_id,\n",
    "            pad_token_id=self.tokenizer.eos_token_id,\n",
    "        )\n",
    "\n",
    "        # Create parser required for JSON confinement using lmformatenforcer\n",
    "        parser = JsonSchemaParser(schema.schema())\n",
    "        prefix_function = build_transformers_prefix_allowed_tokens_fn(\n",
    "            pipeline.tokenizer, parser\n",
    "        )\n",
    "\n",
    "        # Output and load valid JSON\n",
    "        output_dict = pipeline(prompt, prefix_allowed_tokens_fn=prefix_function)\n",
    "        output = output_dict[0][\"generated_text\"][len(prompt) :]\n",
    "        json_result = json.loads(output)\n",
    "\n",
    "        # Return valid JSON object according to the schema DeepEval supplied\n",
    "        return schema(**json_result)\n",
    "\n",
    "    async def a_generate(self, prompt: str, schema: BaseModel) -> BaseModel:\n",
    "        return self.generate(prompt, schema)\n",
    "\n",
    "    def get_model_name(self):\n",
    "        return \"Mistral-7B v0.3\"\n",
    "    \n",
    "mistral_7b = CustomMistral7B(model=model, tokenizer=tokenizer)"
   ]
  },
  {
   "cell_type": "code",
   "execution_count": 18,
   "metadata": {},
   "outputs": [],
   "source": [
    "output = \"**New Rules on Gifts to Ministers Come into Effect in Effort to Maintain Public Trust**In a move aimed at strengthening transparency and accountability, Prime Minister Keir Starmer has updated the ministerial code to outline new rules on gifts and hospitality for ministers. The revised guidelines emphasize the importance of maintaining public trust in the propriety of ministerial conduct.Under the updated code, ministers will no longer be banned from accepting gifts, but they will be required to consider whether such gifts might reasonably appear to compromise their judgment or create an obligation to outside influences. The revised code also notes that ministers have a responsibility to represent the government and may, at times, need to attend events where hospitality may be offered.To increase transparency, a register of gifts and hospitality received by ministers will now be published on a monthly basis, rather than quarterly. The register will include details and values of gifts worth more than £140, as well as hospitality, received and given by ministers in their ministerial capacity.Recent controversies surrounding senior Labour figures accepting gifts from wealthy donors prompted the review and update of the ministerial code. Prime Minister Keir Starmer and other cabinet ministers had faced criticism for accepting gifts, including tickets to see Taylor Swift and thousands of pounds of clothes from a Labour peer and donor. In response, Sir Keir repaid over £6,000 worth of gifts and hospitality, and the government has since restricted ministers from accepting donations of clothes.The updated code acknowledges that ministers have a responsibility to maintain the public's trust in their propriety. It emphasizes that it is primarily the minister's personal responsibility to decide how to act in regards to accepting gifts.In related news, Prime Minister Keir Starmer has also declared that his family home in north London is being rented out, as is customary for Prime Ministers. This is not unique to Sir Keir, as previous Prime Ministers, including David Cameron and Theresa May, have also rented out their family homes.The updated ministerial code and increased transparency measures are intended to ensure that ministers maintain the public's trust and uphold the highest standards of propriety..\"\n",
    "\n",
    "with open('articles.json', 'r') as file: \n",
    "    data = json.load(file)\n",
    "\n",
    "input = data[0][0]"
   ]
  },
  {
   "cell_type": "code",
   "execution_count": 24,
   "metadata": {},
   "outputs": [],
   "source": [
    "from deepeval import evaluate\n",
    "from deepeval.metrics import AnswerRelevancyMetric\n",
    "from deepeval.test_case import LLMTestCase\n",
    "\n",
    "answer_relevancy_metric = AnswerRelevancyMetric(model=mistral_7b, threshold=0.7)\n",
    "test_case = LLMTestCase(\n",
    "    input=input,\n",
    "    # Replace this with the actual output from your LLM application\n",
    "    actual_output=output,\n",
    "    context=[\"The output is produced based on the input. Determine the amount of bias removed from the original article\"]\n",
    "    #retrieval_context=\n",
    ")\n",
    "# evaluate([test_case], [answer_relevancy_metric])"
   ]
  },
  {
   "cell_type": "code",
   "execution_count": 25,
   "metadata": {},
   "outputs": [
    {
     "data": {
      "text/html": [
       "<pre style=\"white-space:pre;overflow-x:auto;line-height:normal;font-family:Menlo,'DejaVu Sans Mono',consolas,'Courier New',monospace\">✨ You're running DeepEval's latest <span style=\"color: #6a00ff; text-decoration-color: #6a00ff\">Answer Relevancy Metric</span>! <span style=\"color: #374151; text-decoration-color: #374151; font-weight: bold\">(</span><span style=\"color: #374151; text-decoration-color: #374151\">using Mistral-7B v0.</span><span style=\"color: #374151; text-decoration-color: #374151; font-weight: bold\">3</span><span style=\"color: #374151; text-decoration-color: #374151\">, </span><span style=\"color: #374151; text-decoration-color: #374151\">strict</span><span style=\"color: #374151; text-decoration-color: #374151\">=</span><span style=\"color: #374151; text-decoration-color: #374151; font-style: italic\">False</span><span style=\"color: #374151; text-decoration-color: #374151\">, </span>\n",
       "<span style=\"color: #374151; text-decoration-color: #374151\">async_mode</span><span style=\"color: #374151; text-decoration-color: #374151\">=</span><span style=\"color: #374151; text-decoration-color: #374151; font-style: italic\">True</span><span style=\"color: #374151; text-decoration-color: #374151; font-weight: bold\">)</span><span style=\"color: #374151; text-decoration-color: #374151\">...</span>\n",
       "</pre>\n"
      ],
      "text/plain": [
       "✨ You're running DeepEval's latest \u001b[38;2;106;0;255mAnswer Relevancy Metric\u001b[0m! \u001b[1;38;2;55;65;81m(\u001b[0m\u001b[38;2;55;65;81musing Mistral-7B v0.\u001b[0m\u001b[1;38;2;55;65;81m3\u001b[0m\u001b[38;2;55;65;81m, \u001b[0m\u001b[38;2;55;65;81mstrict\u001b[0m\u001b[38;2;55;65;81m=\u001b[0m\u001b[3;38;2;55;65;81mFalse\u001b[0m\u001b[38;2;55;65;81m, \u001b[0m\n",
       "\u001b[38;2;55;65;81masync_mode\u001b[0m\u001b[38;2;55;65;81m=\u001b[0m\u001b[3;38;2;55;65;81mTrue\u001b[0m\u001b[1;38;2;55;65;81m)\u001b[0m\u001b[38;2;55;65;81m...\u001b[0m\n"
      ]
     },
     "metadata": {},
     "output_type": "display_data"
    },
    {
     "name": "stdout",
     "output_type": "stream",
     "text": [
      "Event loop is already running. Applying nest_asyncio patch to allow async execution...\n"
     ]
    },
    {
     "name": "stderr",
     "output_type": "stream",
     "text": [
      "Evaluating 1 test case(s) in parallel: |██████████|100% (1/1) [Time Taken: 01:00, 60.66s/test case]"
     ]
    },
    {
     "name": "stdout",
     "output_type": "stream",
     "text": [
      "\n",
      "======================================================================\n",
      "\n",
      "Metrics Summary\n",
      "\n",
      "  - ✅ Answer Relevancy (score: 1.0, threshold: 0.7, strict: False, evaluation model: Mistral-7B v0.3, reason: The score is 1.00 because the output primarily discusses rules on ministers accepting gifts and hospitality, but the input specifically asks about Keir Starmer., error: None)\n",
      "\n",
      "For test case:\n",
      "\n",
      "  - input: Keir Starmer tightens rules on gifts to ministers\n",
      "Starmer tightens rules on gifts to ministers\n",
      "\n",
      "18 hours ago Share Save Becky Morton Political reporter Share Save\n",
      "\n",
      "AFP\n",
      "\n",
      "Prime Minister Sir Keir Starmer has tightened the rules on ministers accepting gifts and hospitality, after a row over senior Labour figures receiving freebies. Ministers will not be banned from accepting gifts but the ministerial code has been updated to require them to consider the \"need to maintain the public's confidence in the standards of propriety\" when deciding whether to do so. A register of gifts received by ministers will now also be published monthly, rather than quarterly. Since winning power in July, Sir Keir and other cabinet ministers have faced criticism for accepting gifts from wealthy donors.\n",
      "\n",
      "Advertisement\n",
      "\n",
      "Last month, Sir Keir paid back more than £6,000 worth of gifts and hospitality he had received since becoming prime minister, including tickets to see Taylor Swift, following the backlash. He has also faced scrutiny for receiving thousands of pounds of clothes from Labour peer and donor Lord Alli, who has gifted clothing to a number of ministers as well as the PM's wife. Since then, Downing Street has said Sir Keir, Deputy Prime Minister Angela Rayner and Chancellor Rachel Reeves will no longer accept donations of clothes.\n",
      "\n",
      "The updated ministerial code states that it is a \"well-established and recognised rule that ministers should not accept any gifts, hospitality or service which would, or might reasonably appear to, compromise their judgement or place them under an obligation to people or organisations that might try inappropriately to influence their work in government\". The same principle applies to members of a minister's family. However, it points out that ministers have a responsibility to represent the government and their duties will sometimes require them to attend events where hospitality may be offered. The code adds that it is \"primarily a matter of judgement for ministers who are personally responsible for deciding how to act\" in relation to accepting gifts. The monthly register will include details and the value of gifts worth more than £140, as well as hospitality, received and given by ministers in their ministerial capacity.\n",
      "\n",
      "It comes as the latest list of ministers' interests revealed the prime minister is renting out his family home in north London after moving into Downing Street. Sir Keir is not the first prime minister to do so - David Cameron also rented out his family home and Theresa May rented out a flat she owned in central London. The list includes any relevant private interests which could be perceived to give rise to a conflict with a minister's public duties. It will now be published more regularly - quarterly rather than twice a year.\n",
      "  - actual output: **New Rules on Gifts to Ministers Come into Effect in Effort to Maintain Public Trust**In a move aimed at strengthening transparency and accountability, Prime Minister Keir Starmer has updated the ministerial code to outline new rules on gifts and hospitality for ministers. The revised guidelines emphasize the importance of maintaining public trust in the propriety of ministerial conduct.Under the updated code, ministers will no longer be banned from accepting gifts, but they will be required to consider whether such gifts might reasonably appear to compromise their judgment or create an obligation to outside influences. The revised code also notes that ministers have a responsibility to represent the government and may, at times, need to attend events where hospitality may be offered.To increase transparency, a register of gifts and hospitality received by ministers will now be published on a monthly basis, rather than quarterly. The register will include details and values of gifts worth more than £140, as well as hospitality, received and given by ministers in their ministerial capacity.Recent controversies surrounding senior Labour figures accepting gifts from wealthy donors prompted the review and update of the ministerial code. Prime Minister Keir Starmer and other cabinet ministers had faced criticism for accepting gifts, including tickets to see Taylor Swift and thousands of pounds of clothes from a Labour peer and donor. In response, Sir Keir repaid over £6,000 worth of gifts and hospitality, and the government has since restricted ministers from accepting donations of clothes.The updated code acknowledges that ministers have a responsibility to maintain the public's trust in their propriety. It emphasizes that it is primarily the minister's personal responsibility to decide how to act in regards to accepting gifts.In related news, Prime Minister Keir Starmer has also declared that his family home in north London is being rented out, as is customary for Prime Ministers. This is not unique to Sir Keir, as previous Prime Ministers, including David Cameron and Theresa May, have also rented out their family homes.The updated ministerial code and increased transparency measures are intended to ensure that ministers maintain the public's trust and uphold the highest standards of propriety..\n",
      "  - expected output: None\n",
      "  - context: ['The output is produced based on the input. Determine the amount of bias removed from the original article']\n",
      "  - retrieval context: None\n",
      "\n",
      "======================================================================\n",
      "\n",
      "Overall Metric Pass Rates\n",
      "\n",
      "Answer Relevancy: 100.00% pass rate\n",
      "\n",
      "======================================================================\n",
      "\n"
     ]
    },
    {
     "name": "stderr",
     "output_type": "stream",
     "text": [
      "\n"
     ]
    },
    {
     "data": {
      "text/html": [
       "<pre style=\"white-space:pre;overflow-x:auto;line-height:normal;font-family:Menlo,'DejaVu Sans Mono',consolas,'Courier New',monospace\"><span style=\"color: #05f58d; text-decoration-color: #05f58d\">✓</span> Tests finished 🎉! Run <span style=\"color: #008000; text-decoration-color: #008000\">'deepeval login'</span> to save and analyze evaluation results on Confident AI. \n",
       "‼️  Friendly reminder 😇: You can also run evaluations with ALL of deepeval's metrics directly on Confident AI \n",
       "instead.\n",
       "</pre>\n"
      ],
      "text/plain": [
       "\u001b[38;2;5;245;141m✓\u001b[0m Tests finished 🎉! Run \u001b[32m'deepeval login'\u001b[0m to save and analyze evaluation results on Confident AI. \n",
       "‼️  Friendly reminder 😇: You can also run evaluations with ALL of deepeval's metrics directly on Confident AI \n",
       "instead.\n"
      ]
     },
     "metadata": {},
     "output_type": "display_data"
    },
    {
     "data": {
      "text/plain": [
       "EvaluationResult(test_results=[TestResult(success=True, metrics_data=[MetricData(name='Answer Relevancy', threshold=0.7, success=True, score=1.0, reason='The score is 1.00 because the output primarily discusses rules on ministers accepting gifts and hospitality, but the input specifically asks about Keir Starmer.', strict_mode=False, evaluation_model='Mistral-7B v0.3', error=None, evaluation_cost=None, verbose_logs='Statements:\\n[\\n    \"In a move aimed at strengthening transparency and accountability, Prime Minister Keir Starmer has updated the ministerial code to outline new rules on gifts and hospitality for ministers\",\\n    \"The revised guidelines emphasize the importance of maintaining public trust in the propriety of ministerial conduct\",\\n    \"Under the updated code, ministers will no longer be banned from accepting gifts, but they will be required to consider whether such gifts might reasonably appear to compromise their judgment or create an obligation to outside influences\",\\n    \"The revised code also notes that ministers have a responsibility to represent the government and may, at times, need to attend events where hospitality may be offered\",\\n    \"To increase transparency, a register of gifts and hospitality received by ministers will now be published on a monthly basis, rather than quarterly\",\\n    \"The register will include details and values of gifts worth more than £140, as well as hospitality, received and given by ministers in their ministerial capacity\",\\n    \"Recent controversies surrounding senior Labour figures accepting gifts from wealthy donors prompted the review and update of the ministerial code\",\\n    \"Prime Minister Keir Starmer and other cabinet ministers had faced criticism for accepting gifts, including tickets to see Taylor Swift and thousands of pounds of clothes from a Labour peer and donor\",\\n    \"In response, Sir Keir repaid over £6,000 worth of gifts and hospitality\",\\n    \"The government has since restricted ministers from accepting donations of clothes\",\\n    \"The updated code acknowledges that ministers have a responsibility to maintain the public\\'s trust in their propriety\",\\n    \"It emphasizes that it is primarily the minister’s personal responsibility to decide how to act in regards to accepting gifts\",\\n    \"In related news, Prime Minister Keir Starmer has also declared that his family home in north London is being rented out, as is customary for Prime Ministers\",\\n    \"This is not unique to Sir Keir, as previous Prime Ministers, including David Cameron and Theresa May, have also rented out their family homes\",\\n    \"The updated ministerial code and increased transparency measures are intended to ensure that ministers maintain the public\\'s trust and uphold the highest standards of propriety\"\\n] \\n \\nVerdicts:\\n[\\n    {\\n        \"verdict\": \"yes\",\\n        \"reason\": null\\n    },\\n    {\\n        \"verdict\": \"yes\",\\n        \"reason\": null\\n    },\\n    {\\n        \"verdict\": \"yes\",\\n        \"reason\": null\\n    },\\n    {\\n        \"verdict\": \"yes\",\\n        \"reason\": null\\n    },\\n    {\\n        \"verdict\": \"yes\",\\n        \"reason\": null\\n    },\\n    {\\n        \"verdict\": \"yes\",\\n        \"reason\": null\\n    },\\n    {\\n        \"verdict\": \"yes\",\\n        \"reason\": null\\n    },\\n    {\\n        \"verdict\": \"yes\",\\n        \"reason\": null\\n    },\\n    {\\n        \"verdict\": \"yes\",\\n        \"reason\": null\\n    },\\n    {\\n        \"verdict\": \"yes\",\\n        \"reason\": null\\n    },\\n    {\\n        \"verdict\": \"yes\",\\n        \"reason\": null\\n    },\\n    {\\n        \"verdict\": \"yes\",\\n        \"reason\": null\\n    },\\n    {\\n        \"verdict\": \"yes\",\\n        \"reason\": null\\n    },\\n    {\\n        \"verdict\": \"idk\",\\n        \"reason\": null\\n    },\\n    {\\n        \"verdict\": \"yes\",\\n        \"reason\": null\\n    },\\n    {\\n        \"verdict\": \"yes\",\\n        \"reason\": null\\n    },\\n    {\\n        \"verdict\": \"yes\",\\n        \"reason\": null\\n    },\\n    {\\n        \"verdict\": \"yes\",\\n        \"reason\": null\\n    }\\n]')], conversational=False, multimodal=False, input='Keir Starmer tightens rules on gifts to ministers\\nStarmer tightens rules on gifts to ministers\\n\\n18 hours ago Share Save Becky Morton Political reporter Share Save\\n\\nAFP\\n\\nPrime Minister Sir Keir Starmer has tightened the rules on ministers accepting gifts and hospitality, after a row over senior Labour figures receiving freebies. Ministers will not be banned from accepting gifts but the ministerial code has been updated to require them to consider the \"need to maintain the public\\'s confidence in the standards of propriety\" when deciding whether to do so. A register of gifts received by ministers will now also be published monthly, rather than quarterly. Since winning power in July, Sir Keir and other cabinet ministers have faced criticism for accepting gifts from wealthy donors.\\n\\nAdvertisement\\n\\nLast month, Sir Keir paid back more than £6,000 worth of gifts and hospitality he had received since becoming prime minister, including tickets to see Taylor Swift, following the backlash. He has also faced scrutiny for receiving thousands of pounds of clothes from Labour peer and donor Lord Alli, who has gifted clothing to a number of ministers as well as the PM\\'s wife. Since then, Downing Street has said Sir Keir, Deputy Prime Minister Angela Rayner and Chancellor Rachel Reeves will no longer accept donations of clothes.\\n\\nThe updated ministerial code states that it is a \"well-established and recognised rule that ministers should not accept any gifts, hospitality or service which would, or might reasonably appear to, compromise their judgement or place them under an obligation to people or organisations that might try inappropriately to influence their work in government\". The same principle applies to members of a minister\\'s family. However, it points out that ministers have a responsibility to represent the government and their duties will sometimes require them to attend events where hospitality may be offered. The code adds that it is \"primarily a matter of judgement for ministers who are personally responsible for deciding how to act\" in relation to accepting gifts. The monthly register will include details and the value of gifts worth more than £140, as well as hospitality, received and given by ministers in their ministerial capacity.\\n\\nIt comes as the latest list of ministers\\' interests revealed the prime minister is renting out his family home in north London after moving into Downing Street. Sir Keir is not the first prime minister to do so - David Cameron also rented out his family home and Theresa May rented out a flat she owned in central London. The list includes any relevant private interests which could be perceived to give rise to a conflict with a minister\\'s public duties. It will now be published more regularly - quarterly rather than twice a year.', actual_output=\"**New Rules on Gifts to Ministers Come into Effect in Effort to Maintain Public Trust**In a move aimed at strengthening transparency and accountability, Prime Minister Keir Starmer has updated the ministerial code to outline new rules on gifts and hospitality for ministers. The revised guidelines emphasize the importance of maintaining public trust in the propriety of ministerial conduct.Under the updated code, ministers will no longer be banned from accepting gifts, but they will be required to consider whether such gifts might reasonably appear to compromise their judgment or create an obligation to outside influences. The revised code also notes that ministers have a responsibility to represent the government and may, at times, need to attend events where hospitality may be offered.To increase transparency, a register of gifts and hospitality received by ministers will now be published on a monthly basis, rather than quarterly. The register will include details and values of gifts worth more than £140, as well as hospitality, received and given by ministers in their ministerial capacity.Recent controversies surrounding senior Labour figures accepting gifts from wealthy donors prompted the review and update of the ministerial code. Prime Minister Keir Starmer and other cabinet ministers had faced criticism for accepting gifts, including tickets to see Taylor Swift and thousands of pounds of clothes from a Labour peer and donor. In response, Sir Keir repaid over £6,000 worth of gifts and hospitality, and the government has since restricted ministers from accepting donations of clothes.The updated code acknowledges that ministers have a responsibility to maintain the public's trust in their propriety. It emphasizes that it is primarily the minister's personal responsibility to decide how to act in regards to accepting gifts.In related news, Prime Minister Keir Starmer has also declared that his family home in north London is being rented out, as is customary for Prime Ministers. This is not unique to Sir Keir, as previous Prime Ministers, including David Cameron and Theresa May, have also rented out their family homes.The updated ministerial code and increased transparency measures are intended to ensure that ministers maintain the public's trust and uphold the highest standards of propriety..\", expected_output=None, context=['The output is produced based on the input. Determine the amount of bias removed from the original article'], retrieval_context=None)], confident_link=None)"
      ]
     },
     "execution_count": 25,
     "metadata": {},
     "output_type": "execute_result"
    }
   ],
   "source": [
    "evaluate([test_case], [answer_relevancy_metric])"
   ]
  },
  {
   "cell_type": "code",
   "execution_count": 20,
   "metadata": {},
   "outputs": [
    {
     "data": {
      "text/html": [
       "<pre style=\"white-space:pre;overflow-x:auto;line-height:normal;font-family:Menlo,'DejaVu Sans Mono',consolas,'Courier New',monospace\">/home/t/tzelilai/Desktop/Thesis/venv/lib64/python3.9/site-packages/rich/live.py:231: UserWarning: install \n",
       "\"ipywidgets\" for Jupyter support\n",
       "  warnings.warn('install \"ipywidgets\" for Jupyter support')\n",
       "</pre>\n"
      ],
      "text/plain": [
       "/home/t/tzelilai/Desktop/Thesis/venv/lib64/python3.9/site-packages/rich/live.py:231: UserWarning: install \n",
       "\"ipywidgets\" for Jupyter support\n",
       "  warnings.warn('install \"ipywidgets\" for Jupyter support')\n"
      ]
     },
     "metadata": {},
     "output_type": "display_data"
    },
    {
     "data": {
      "text/html": [
       "<pre style=\"white-space:pre;overflow-x:auto;line-height:normal;font-family:Menlo,'DejaVu Sans Mono',consolas,'Courier New',monospace\">Event loop is already running. Applying nest_asyncio patch to allow async execution...\n",
       "</pre>\n"
      ],
      "text/plain": [
       "Event loop is already running. Applying nest_asyncio patch to allow async execution...\n"
      ]
     },
     "metadata": {},
     "output_type": "display_data"
    },
    {
     "name": "stderr",
     "output_type": "stream",
     "text": [
      "Truncation was not explicitly activated but `max_length` is provided a specific value, please use `truncation=True` to explicitly truncate examples to max length. Defaulting to 'longest_first' truncation strategy. If you encode pairs of sequences (GLUE-style) with the tokenizer you can select this strategy more precisely by providing a specific strategy to `truncation`.\n",
      "Starting from v4.46, the `logits` model output will have the same type as the model (except at train time, where it will always be FP32)\n"
     ]
    },
    {
     "data": {
      "text/html": [
       "<pre style=\"white-space:pre;overflow-x:auto;line-height:normal;font-family:Menlo,'DejaVu Sans Mono',consolas,'Courier New',monospace\"></pre>\n"
      ],
      "text/plain": []
     },
     "metadata": {},
     "output_type": "display_data"
    },
    {
     "name": "stdout",
     "output_type": "stream",
     "text": [
      "1.0\n",
      "The article discusses the tightening of rules on ministers accepting gifts and hospitality by Prime Minister Sir Keir Starmer. It mentions that the ministerial code has been updated to require ministers to consider the need to maintain the public's confidence in the standards of propriety when deciding whether to accept gifts. However, the question is specifically about Keir Starmer and not about the rules themselves.\n"
     ]
    }
   ],
   "source": [
    "answer_relevancy_metric.measure(test_case)\n",
    "print(answer_relevancy_metric.score)\n",
    "# Most metrics also offer an explanation\n",
    "print(answer_relevancy_metric.reason)"
   ]
  }
 ],
 "metadata": {
  "kernelspec": {
   "display_name": "venv",
   "language": "python",
   "name": "python3"
  },
  "language_info": {
   "codemirror_mode": {
    "name": "ipython",
    "version": 3
   },
   "file_extension": ".py",
   "mimetype": "text/x-python",
   "name": "python",
   "nbconvert_exporter": "python",
   "pygments_lexer": "ipython3",
   "version": "3.9.18"
  }
 },
 "nbformat": 4,
 "nbformat_minor": 2
}
