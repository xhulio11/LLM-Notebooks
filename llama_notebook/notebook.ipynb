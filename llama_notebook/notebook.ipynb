{
  "cells": [
    {
      "cell_type": "code",
      "execution_count": 6,
      "metadata": {},
      "outputs": [],
      "source": [
        "import transformers\n",
        "import torch \n",
        "import gc \n",
        "import json\n",
        "from tokens import *"
      ]
    },
    {
      "cell_type": "code",
      "execution_count": 2,
      "metadata": {},
      "outputs": [],
      "source": [
        "gc.collect()\n",
        "torch.cuda.empty_cache()"
      ]
    },
    {
      "cell_type": "code",
      "execution_count": 5,
      "metadata": {
        "colab": {
          "base_uri": "https://localhost:8080/",
          "height": 1000,
          "referenced_widgets": [
            "6a864427be804607aa7f009d616d3f97",
            "96047562598a45069fd9dc9d8f4b393a",
            "93c7fd87c8ed4769aad9a4170caf03f4",
            "e7c60755ec374ade9a830080c58ce078",
            "2627ed72f18841c981f9e0a2b8aa48ee",
            "2bedcbb8663949018cdb54e1b2894795",
            "11f297fcc4274958b5c5bda3f159e0d7",
            "56f0d8548d3a4ed9aa284d056ee3c136",
            "e6325cd030ed4100b9933be76b1876ae",
            "0c9dbc6ccede49a8b2bf17034b052c19",
            "cadff175cb4f4a47a3663628238e088b"
          ]
        },
        "id": "JaPGT7BqEDQf",
        "outputId": "9d3375a8-0df1-41a1-b0cd-cfd384552a3c"
      },
      "outputs": [
        {
          "name": "stderr",
          "output_type": "stream",
          "text": [
            "/home/t/tzelilai/Desktop/Thesis/venv/lib64/python3.9/site-packages/transformers/models/auto/auto_factory.py:471: FutureWarning: The `use_auth_token` argument is deprecated and will be removed in v5 of Transformers. Please use `token` instead.\n",
            "  warnings.warn(\n",
            "The `load_in_4bit` and `load_in_8bit` arguments are deprecated and will be removed in the future versions. Please, pass a `BitsAndBytesConfig` object in `quantization_config` argument instead.\n",
            "`low_cpu_mem_usage` was None, now set to True since model is quantized.\n",
            "Loading checkpoint shards: 100%|██████████| 4/4 [00:04<00:00,  1.06s/it]\n",
            "/home/t/tzelilai/Desktop/Thesis/venv/lib64/python3.9/site-packages/transformers/models/auto/tokenization_auto.py:796: FutureWarning: The `use_auth_token` argument is deprecated and will be removed in v5 of Transformers. Please use `token` instead.\n",
            "  warnings.warn(\n",
            "2024-11-07 13:41:30.520371: I tensorflow/core/util/port.cc:153] oneDNN custom operations are on. You may see slightly different numerical results due to floating-point round-off errors from different computation orders. To turn them off, set the environment variable `TF_ENABLE_ONEDNN_OPTS=0`.\n",
            "2024-11-07 13:41:36.806990: E external/local_xla/xla/stream_executor/cuda/cuda_fft.cc:485] Unable to register cuFFT factory: Attempting to register factory for plugin cuFFT when one has already been registered\n",
            "2024-11-07 13:41:39.128753: E external/local_xla/xla/stream_executor/cuda/cuda_dnn.cc:8454] Unable to register cuDNN factory: Attempting to register factory for plugin cuDNN when one has already been registered\n",
            "2024-11-07 13:41:39.872460: E external/local_xla/xla/stream_executor/cuda/cuda_blas.cc:1452] Unable to register cuBLAS factory: Attempting to register factory for plugin cuBLAS when one has already been registered\n",
            "2024-11-07 13:41:44.817855: I tensorflow/core/platform/cpu_feature_guard.cc:210] This TensorFlow binary is optimized to use available CPU instructions in performance-critical operations.\n",
            "To enable the following instructions: AVX2 AVX512F AVX512_VNNI FMA, in other operations, rebuild TensorFlow with the appropriate compiler flags.\n",
            "2024-11-07 13:42:22.498292: W tensorflow/compiler/tf2tensorrt/utils/py_utils.cc:38] TF-TRT Warning: Could not find TensorRT\n"
          ]
        }
      ],
      "source": [
        "\n",
        "\n",
        "# Load the model and tokenizer with the access token\n",
        "model = transformers.AutoModelForCausalLM.from_pretrained(\n",
        "    model_id,\n",
        "    use_auth_token=access_token,\n",
        "    torch_dtype=torch.bfloat16,\n",
        "    load_in_4bit=True\n",
        ")\n",
        "tokenizer = transformers.AutoTokenizer.from_pretrained(\n",
        "    model_id,\n",
        "    use_auth_token=access_token\n",
        ")\n",
        "\n",
        "# Create the pipeline with the specified model and tokenizer\n",
        "pipeline = transformers.pipeline(\n",
        "    \"text-generation\",\n",
        "    model=model,\n",
        "    tokenizer=tokenizer\n",
        ")\n",
        "\n"
      ]
    },
    {
      "cell_type": "code",
      "execution_count": 11,
      "metadata": {
        "id": "8gzj1zr8KIxV"
      },
      "outputs": [],
      "source": [
        "def repeater( messages):\n",
        "\n",
        "  # Apply chat template to messages\n",
        "  prompt = pipeline.tokenizer.apply_chat_template(\n",
        "      messages,\n",
        "      tokenize=False,\n",
        "      add_generation_prompt=True\n",
        "  )\n",
        "\n",
        "  # Define terminators\n",
        "  terminators = [\n",
        "      pipeline.tokenizer.eos_token_id,\n",
        "  ]\n",
        "\n",
        "  # Generate text\n",
        "  outputs = pipeline(\n",
        "      prompt,\n",
        "      max_new_tokens=2024*2,\n",
        "      eos_token_id=terminators,\n",
        "      do_sample=True,\n",
        "      temperature=1,\n",
        "      top_p=0.9,\n",
        "  )\n",
        "  return outputs\n"
      ]
    },
    {
      "cell_type": "code",
      "execution_count": null,
      "metadata": {},
      "outputs": [],
      "source": []
    },
    {
      "cell_type": "code",
      "execution_count": 18,
      "metadata": {},
      "outputs": [
        {
          "name": "stdout",
          "output_type": "stream",
          "text": [
            "5 are available.\n"
          ]
        }
      ],
      "source": [
        "with open('articles.json', 'r') as file: \n",
        "    articles = json.load(file)\n",
        "\n",
        "print(f'{len(articles[len(articles) - 1])} are available.')"
      ]
    },
    {
      "cell_type": "code",
      "execution_count": 21,
      "metadata": {},
      "outputs": [],
      "source": [
        "# Define messages\n",
        "messages = [\n",
        "    {\"role\": \"system\", \"content\": \"You are an AI assistant tasked with producing NEUTRAL news article based on the provided article information.\"\n",
        "                                \"Try to filter the bias that maybe existent in the article\" \n",
        "                                \"Write a new article as a journalist, ensuring the content is unbiased, factual, and informative.\"},\n",
        "                                \n",
        "    {\"role\": \"user\", \"content\": articles[0][0]}\n",
        "]\n",
        "\n",
        "total_length = len(messages[0]['content']) + len(messages[1]['content'])"
      ]
    },
    {
      "cell_type": "code",
      "execution_count": 25,
      "metadata": {},
      "outputs": [],
      "source": [
        "ending_token = '<|eot_id|><|start_header_id|>assistant<|end_header_id|>'"
      ]
    },
    {
      "cell_type": "code",
      "execution_count": 22,
      "metadata": {},
      "outputs": [
        {
          "name": "stderr",
          "output_type": "stream",
          "text": [
            "Setting `pad_token_id` to `eos_token_id`:None for open-end generation.\n"
          ]
        }
      ],
      "source": [
        "outputs = repeater(messages)"
      ]
    },
    {
      "cell_type": "code",
      "execution_count": 26,
      "metadata": {},
      "outputs": [],
      "source": [
        "start_index = outputs[0][\"generated_text\"].find(ending_token)"
      ]
    },
    {
      "cell_type": "code",
      "execution_count": 28,
      "metadata": {},
      "outputs": [
        {
          "name": "stdout",
          "output_type": "stream",
          "text": [
            "|eot_id|><|start_header_id|>assistant<|end_header_id|>\n",
            "\n",
            "**New Rules on Gifts to Ministers Come into Effect in Effort to Maintain Public Trust**\n",
            "\n",
            "In a move aimed at strengthening transparency and accountability, Prime Minister Keir Starmer has updated the ministerial code to outline new rules on gifts and hospitality for ministers. The revised guidelines emphasize the importance of maintaining public trust in the propriety of ministerial conduct.\n",
            "\n",
            "Under the updated code, ministers will no longer be banned from accepting gifts, but they will be required to consider whether such gifts might reasonably appear to compromise their judgment or create an obligation to outside influences. The revised code also notes that ministers have a responsibility to represent the government and may, at times, need to attend events where hospitality may be offered.\n",
            "\n",
            "To increase transparency, a register of gifts and hospitality received by ministers will now be published on a monthly basis, rather than quarterly. The register will include details and values of gifts worth more than £140, as well as hospitality, received and given by ministers in their ministerial capacity.\n",
            "\n",
            "Recent controversies surrounding senior Labour figures accepting gifts from wealthy donors prompted the review and update of the ministerial code. Prime Minister Keir Starmer and other cabinet ministers had faced criticism for accepting gifts, including tickets to see Taylor Swift and thousands of pounds of clothes from a Labour peer and donor. In response, Sir Keir repaid over £6,000 worth of gifts and hospitality, and the government has since restricted ministers from accepting donations of clothes.\n",
            "\n",
            "The updated code acknowledges that ministers have a responsibility to maintain the public's trust in their propriety. It emphasizes that it is primarily the minister's personal responsibility to decide how to act in regards to accepting gifts.\n",
            "\n",
            "In related news, Prime Minister Keir Starmer has also declared that his family home in north London is being rented out, as is customary for Prime Ministers. This is not unique to Sir Keir, as previous Prime Ministers, including David Cameron and Theresa May, have also rented out their family homes.\n",
            "\n",
            "The updated ministerial code and increased transparency measures are intended to ensure that ministers maintain the public's trust and uphold the highest standards of propriety.."
          ]
        }
      ],
      "source": [
        "print(outputs[0][\"generated_text\"][start_index + len(ending_token):], end='.')"
      ]
    },
    {
      "cell_type": "code",
      "execution_count": null,
      "metadata": {},
      "outputs": [],
      "source": [
        "\n",
        "outputs = repeater()\n",
        "# Print the output\n",
        "print(outputs[0][\"generated_text\"][len(prompt):], end='.')\n",
        "#print(outputs)\n",
        "del outputs\n",
        "gc.collect()\n",
        "torch.cuda.empty_cache()\n"
      ]
    },
    {
      "cell_type": "code",
      "execution_count": 37,
      "metadata": {
        "id": "HAwBhu9IPEuC"
      },
      "outputs": [],
      "source": [
        "with open('0ALg3HGNkGsc0bNZ.txt','r') as f:\n",
        "  content = f.read()\n"
      ]
    },
    {
      "cell_type": "code",
      "execution_count": 38,
      "metadata": {
        "colab": {
          "base_uri": "https://localhost:8080/",
          "height": 144
        },
        "id": "xSQP_22jNhg7",
        "outputId": "147ec810-b754-429c-fa17-f9a312f9235e"
      },
      "outputs": [
        {
          "name": "stderr",
          "output_type": "stream",
          "text": [
            "Setting `pad_token_id` to `eos_token_id`:None for open-end generation.\n"
          ]
        },
        {
          "name": "stdout",
          "output_type": "stream",
          "text": [
            "**Reframing the Article: How California's Conservative Movement Became the Engine of Trumpism**\n",
            "\n",
            "In a surprising twist, the Golden State, known for its liberal politics, has become the epicenter of conservative thought and action. California's unique conservatism has morphed into a powerful force, shaping the national political landscape and fueling the rise of Trumpism.\n",
            "\n",
            "The roots of California's conservative movement can be traced back to the 1990s, when Proposition 187, a ballot initiative aimed at cutting off undocumented immigrants from public services, sparked controversy and galvanized the state's Republican base. Since then, the state's conservative movement has grown, fueled by anxieties over demographic changes and the perceived threat to American culture.\n",
            "\n",
            "California's conservatives are distinct from traditional conservatism, focusing on cultural and identity issues rather than policy debates. They see themselves as a besieged minority, under attack from the left and determined to fight back. This mentality has led to a strong affinity with Donald Trump, who has tapped into this sentiment and exploited it to his advantage.\n",
            "\n",
            "Conservatives in California view themselves as powerless, demographically swamped, and fearful of being pushed to the brink of political irrelevance. This feeling of powerlessness has led them to focus on cultural and identity issues, such as immigration, race, and culture wars, rather than policy debates.\n",
            "\n",
            "The Claremont Institutes, located in eastern Los Angeles County, are the birthplace of Trumpism and the \"Flight 93 Election\" essay, which posits that the 2016 election was a life-or-death scenario requiring Americans to elect Trump. The Claremont Review of Books, edited by Charles Kesler, has been a influential voice in this movement.\n",
            "\n",
            "Ben Shapiro, a prominent conservative commentator, has built his media empire, Daily Wire, out of his Los Angeles office, where he and his team focus on culture, politics, and media. Shapiro's ideology is shaped by his experiences in California, where he feels his conservative views are under siege.\n",
            "\n",
            "California's conservative movement is not without its contradictions. On one hand, it has led to a focus on cultural and identity issues, which has galvanized the conservative base and helped Trump win the White House. On the other hand, this focus on cultural wars has led to a lack of concern for policy debates, making it difficult to govern and leading to divisions within the conservative movement.\n",
            "\n",
            "In conclusion, California's conservative movement has become a powerful force in American politics, shaping the rise of Trumpism and the country's cultural and political landscape.."
          ]
        }
      ],
      "source": [
        "repeater(content)"
      ]
    }
  ],
  "metadata": {
    "accelerator": "GPU",
    "colab": {
      "gpuType": "T4",
      "provenance": []
    },
    "kernelspec": {
      "display_name": "venv",
      "language": "python",
      "name": "python3"
    },
    "language_info": {
      "codemirror_mode": {
        "name": "ipython",
        "version": 3
      },
      "file_extension": ".py",
      "mimetype": "text/x-python",
      "name": "python",
      "nbconvert_exporter": "python",
      "pygments_lexer": "ipython3",
      "version": "3.9.18"
    },
    "widgets": {
      "application/vnd.jupyter.widget-state+json": {
        "0c9dbc6ccede49a8b2bf17034b052c19": {
          "model_module": "@jupyter-widgets/base",
          "model_module_version": "1.2.0",
          "model_name": "LayoutModel",
          "state": {
            "_model_module": "@jupyter-widgets/base",
            "_model_module_version": "1.2.0",
            "_model_name": "LayoutModel",
            "_view_count": null,
            "_view_module": "@jupyter-widgets/base",
            "_view_module_version": "1.2.0",
            "_view_name": "LayoutView",
            "align_content": null,
            "align_items": null,
            "align_self": null,
            "border": null,
            "bottom": null,
            "display": null,
            "flex": null,
            "flex_flow": null,
            "grid_area": null,
            "grid_auto_columns": null,
            "grid_auto_flow": null,
            "grid_auto_rows": null,
            "grid_column": null,
            "grid_gap": null,
            "grid_row": null,
            "grid_template_areas": null,
            "grid_template_columns": null,
            "grid_template_rows": null,
            "height": null,
            "justify_content": null,
            "justify_items": null,
            "left": null,
            "margin": null,
            "max_height": null,
            "max_width": null,
            "min_height": null,
            "min_width": null,
            "object_fit": null,
            "object_position": null,
            "order": null,
            "overflow": null,
            "overflow_x": null,
            "overflow_y": null,
            "padding": null,
            "right": null,
            "top": null,
            "visibility": null,
            "width": null
          }
        },
        "11f297fcc4274958b5c5bda3f159e0d7": {
          "model_module": "@jupyter-widgets/controls",
          "model_module_version": "1.5.0",
          "model_name": "DescriptionStyleModel",
          "state": {
            "_model_module": "@jupyter-widgets/controls",
            "_model_module_version": "1.5.0",
            "_model_name": "DescriptionStyleModel",
            "_view_count": null,
            "_view_module": "@jupyter-widgets/base",
            "_view_module_version": "1.2.0",
            "_view_name": "StyleView",
            "description_width": ""
          }
        },
        "2627ed72f18841c981f9e0a2b8aa48ee": {
          "model_module": "@jupyter-widgets/base",
          "model_module_version": "1.2.0",
          "model_name": "LayoutModel",
          "state": {
            "_model_module": "@jupyter-widgets/base",
            "_model_module_version": "1.2.0",
            "_model_name": "LayoutModel",
            "_view_count": null,
            "_view_module": "@jupyter-widgets/base",
            "_view_module_version": "1.2.0",
            "_view_name": "LayoutView",
            "align_content": null,
            "align_items": null,
            "align_self": null,
            "border": null,
            "bottom": null,
            "display": null,
            "flex": null,
            "flex_flow": null,
            "grid_area": null,
            "grid_auto_columns": null,
            "grid_auto_flow": null,
            "grid_auto_rows": null,
            "grid_column": null,
            "grid_gap": null,
            "grid_row": null,
            "grid_template_areas": null,
            "grid_template_columns": null,
            "grid_template_rows": null,
            "height": null,
            "justify_content": null,
            "justify_items": null,
            "left": null,
            "margin": null,
            "max_height": null,
            "max_width": null,
            "min_height": null,
            "min_width": null,
            "object_fit": null,
            "object_position": null,
            "order": null,
            "overflow": null,
            "overflow_x": null,
            "overflow_y": null,
            "padding": null,
            "right": null,
            "top": null,
            "visibility": null,
            "width": null
          }
        },
        "2bedcbb8663949018cdb54e1b2894795": {
          "model_module": "@jupyter-widgets/base",
          "model_module_version": "1.2.0",
          "model_name": "LayoutModel",
          "state": {
            "_model_module": "@jupyter-widgets/base",
            "_model_module_version": "1.2.0",
            "_model_name": "LayoutModel",
            "_view_count": null,
            "_view_module": "@jupyter-widgets/base",
            "_view_module_version": "1.2.0",
            "_view_name": "LayoutView",
            "align_content": null,
            "align_items": null,
            "align_self": null,
            "border": null,
            "bottom": null,
            "display": null,
            "flex": null,
            "flex_flow": null,
            "grid_area": null,
            "grid_auto_columns": null,
            "grid_auto_flow": null,
            "grid_auto_rows": null,
            "grid_column": null,
            "grid_gap": null,
            "grid_row": null,
            "grid_template_areas": null,
            "grid_template_columns": null,
            "grid_template_rows": null,
            "height": null,
            "justify_content": null,
            "justify_items": null,
            "left": null,
            "margin": null,
            "max_height": null,
            "max_width": null,
            "min_height": null,
            "min_width": null,
            "object_fit": null,
            "object_position": null,
            "order": null,
            "overflow": null,
            "overflow_x": null,
            "overflow_y": null,
            "padding": null,
            "right": null,
            "top": null,
            "visibility": null,
            "width": null
          }
        },
        "56f0d8548d3a4ed9aa284d056ee3c136": {
          "model_module": "@jupyter-widgets/base",
          "model_module_version": "1.2.0",
          "model_name": "LayoutModel",
          "state": {
            "_model_module": "@jupyter-widgets/base",
            "_model_module_version": "1.2.0",
            "_model_name": "LayoutModel",
            "_view_count": null,
            "_view_module": "@jupyter-widgets/base",
            "_view_module_version": "1.2.0",
            "_view_name": "LayoutView",
            "align_content": null,
            "align_items": null,
            "align_self": null,
            "border": null,
            "bottom": null,
            "display": null,
            "flex": null,
            "flex_flow": null,
            "grid_area": null,
            "grid_auto_columns": null,
            "grid_auto_flow": null,
            "grid_auto_rows": null,
            "grid_column": null,
            "grid_gap": null,
            "grid_row": null,
            "grid_template_areas": null,
            "grid_template_columns": null,
            "grid_template_rows": null,
            "height": null,
            "justify_content": null,
            "justify_items": null,
            "left": null,
            "margin": null,
            "max_height": null,
            "max_width": null,
            "min_height": null,
            "min_width": null,
            "object_fit": null,
            "object_position": null,
            "order": null,
            "overflow": null,
            "overflow_x": null,
            "overflow_y": null,
            "padding": null,
            "right": null,
            "top": null,
            "visibility": null,
            "width": null
          }
        },
        "6a864427be804607aa7f009d616d3f97": {
          "model_module": "@jupyter-widgets/controls",
          "model_module_version": "1.5.0",
          "model_name": "HBoxModel",
          "state": {
            "_dom_classes": [],
            "_model_module": "@jupyter-widgets/controls",
            "_model_module_version": "1.5.0",
            "_model_name": "HBoxModel",
            "_view_count": null,
            "_view_module": "@jupyter-widgets/controls",
            "_view_module_version": "1.5.0",
            "_view_name": "HBoxView",
            "box_style": "",
            "children": [
              "IPY_MODEL_96047562598a45069fd9dc9d8f4b393a",
              "IPY_MODEL_93c7fd87c8ed4769aad9a4170caf03f4",
              "IPY_MODEL_e7c60755ec374ade9a830080c58ce078"
            ],
            "layout": "IPY_MODEL_2627ed72f18841c981f9e0a2b8aa48ee"
          }
        },
        "93c7fd87c8ed4769aad9a4170caf03f4": {
          "model_module": "@jupyter-widgets/controls",
          "model_module_version": "1.5.0",
          "model_name": "FloatProgressModel",
          "state": {
            "_dom_classes": [],
            "_model_module": "@jupyter-widgets/controls",
            "_model_module_version": "1.5.0",
            "_model_name": "FloatProgressModel",
            "_view_count": null,
            "_view_module": "@jupyter-widgets/controls",
            "_view_module_version": "1.5.0",
            "_view_name": "ProgressView",
            "bar_style": "success",
            "description": "",
            "description_tooltip": null,
            "layout": "IPY_MODEL_56f0d8548d3a4ed9aa284d056ee3c136",
            "max": 654,
            "min": 0,
            "orientation": "horizontal",
            "style": "IPY_MODEL_e6325cd030ed4100b9933be76b1876ae",
            "value": 654
          }
        },
        "96047562598a45069fd9dc9d8f4b393a": {
          "model_module": "@jupyter-widgets/controls",
          "model_module_version": "1.5.0",
          "model_name": "HTMLModel",
          "state": {
            "_dom_classes": [],
            "_model_module": "@jupyter-widgets/controls",
            "_model_module_version": "1.5.0",
            "_model_name": "HTMLModel",
            "_view_count": null,
            "_view_module": "@jupyter-widgets/controls",
            "_view_module_version": "1.5.0",
            "_view_name": "HTMLView",
            "description": "",
            "description_tooltip": null,
            "layout": "IPY_MODEL_2bedcbb8663949018cdb54e1b2894795",
            "placeholder": "​",
            "style": "IPY_MODEL_11f297fcc4274958b5c5bda3f159e0d7",
            "value": "config.json: 100%"
          }
        },
        "cadff175cb4f4a47a3663628238e088b": {
          "model_module": "@jupyter-widgets/controls",
          "model_module_version": "1.5.0",
          "model_name": "DescriptionStyleModel",
          "state": {
            "_model_module": "@jupyter-widgets/controls",
            "_model_module_version": "1.5.0",
            "_model_name": "DescriptionStyleModel",
            "_view_count": null,
            "_view_module": "@jupyter-widgets/base",
            "_view_module_version": "1.2.0",
            "_view_name": "StyleView",
            "description_width": ""
          }
        },
        "e6325cd030ed4100b9933be76b1876ae": {
          "model_module": "@jupyter-widgets/controls",
          "model_module_version": "1.5.0",
          "model_name": "ProgressStyleModel",
          "state": {
            "_model_module": "@jupyter-widgets/controls",
            "_model_module_version": "1.5.0",
            "_model_name": "ProgressStyleModel",
            "_view_count": null,
            "_view_module": "@jupyter-widgets/base",
            "_view_module_version": "1.2.0",
            "_view_name": "StyleView",
            "bar_color": null,
            "description_width": ""
          }
        },
        "e7c60755ec374ade9a830080c58ce078": {
          "model_module": "@jupyter-widgets/controls",
          "model_module_version": "1.5.0",
          "model_name": "HTMLModel",
          "state": {
            "_dom_classes": [],
            "_model_module": "@jupyter-widgets/controls",
            "_model_module_version": "1.5.0",
            "_model_name": "HTMLModel",
            "_view_count": null,
            "_view_module": "@jupyter-widgets/controls",
            "_view_module_version": "1.5.0",
            "_view_name": "HTMLView",
            "description": "",
            "description_tooltip": null,
            "layout": "IPY_MODEL_0c9dbc6ccede49a8b2bf17034b052c19",
            "placeholder": "​",
            "style": "IPY_MODEL_cadff175cb4f4a47a3663628238e088b",
            "value": " 654/654 [00:00&lt;00:00, 42.4kB/s]"
          }
        }
      }
    }
  },
  "nbformat": 4,
  "nbformat_minor": 0
}
